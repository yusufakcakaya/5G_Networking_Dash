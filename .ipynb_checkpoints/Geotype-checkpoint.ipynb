{
 "cells": [
  {
   "cell_type": "code",
   "execution_count": 48,
   "id": "2853757f",
   "metadata": {},
   "outputs": [],
   "source": [
    "import pandas as pd\n",
    "import numpy as np\n",
    "import seaborn as sns\n",
    "import matplotlib.pyplot as plt\n",
    "import plotly.express as px\n",
    "from dash import Dash, dcc, html, Input, Output\n",
    "import plotly.graph_objects as go\n",
    "from plotly.subplots import make_subplots"
   ]
  },
  {
   "cell_type": "markdown",
   "id": "9830cc71",
   "metadata": {},
   "source": [
    "### Demand Driven Aggregate Geotype Cost"
   ]
  },
  {
   "cell_type": "code",
   "execution_count": 49,
   "id": "a3382ca6",
   "metadata": {},
   "outputs": [],
   "source": [
    "df = pd.read_csv('data/demand_driven_aggregate_geotype_cost.csv')"
   ]
  },
  {
   "cell_type": "code",
   "execution_count": 38,
   "id": "133e4065",
   "metadata": {},
   "outputs": [
    {
     "data": {
      "text/html": [
       "<div>\n",
       "<style scoped>\n",
       "    .dataframe tbody tr th:only-of-type {\n",
       "        vertical-align: middle;\n",
       "    }\n",
       "\n",
       "    .dataframe tbody tr th {\n",
       "        vertical-align: top;\n",
       "    }\n",
       "\n",
       "    .dataframe thead th {\n",
       "        text-align: right;\n",
       "    }\n",
       "</style>\n",
       "<table border=\"1\" class=\"dataframe\">\n",
       "  <thead>\n",
       "    <tr style=\"text-align: right;\">\n",
       "      <th></th>\n",
       "      <th>strategy</th>\n",
       "      <th>scenario</th>\n",
       "      <th>geotype</th>\n",
       "      <th>area_km2</th>\n",
       "      <th>cost</th>\n",
       "      <th>RAN.macro</th>\n",
       "      <th>RAN.small.cells</th>\n",
       "      <th>backhaul.macro</th>\n",
       "      <th>civil.works.macro</th>\n",
       "      <th>civil.works.small</th>\n",
       "    </tr>\n",
       "  </thead>\n",
       "  <tbody>\n",
       "    <tr>\n",
       "      <th>0</th>\n",
       "      <td>Hybrid</td>\n",
       "      <td>Scenario 1 (30 Mbps)</td>\n",
       "      <td>Rural 1</td>\n",
       "      <td>3129.0</td>\n",
       "      <td>2.179056e+08</td>\n",
       "      <td>60436781.34</td>\n",
       "      <td>22373478.18</td>\n",
       "      <td>3409691.472</td>\n",
       "      <td>15343611.62</td>\n",
       "      <td>116342086.5</td>\n",
       "    </tr>\n",
       "    <tr>\n",
       "      <th>1</th>\n",
       "      <td>Small Cells</td>\n",
       "      <td>Scenario 1 (30 Mbps)</td>\n",
       "      <td>Rural 1</td>\n",
       "      <td>3129.0</td>\n",
       "      <td>1.387156e+08</td>\n",
       "      <td>0.00</td>\n",
       "      <td>22373478.18</td>\n",
       "      <td>0.000</td>\n",
       "      <td>0.00</td>\n",
       "      <td>116342086.5</td>\n",
       "    </tr>\n",
       "    <tr>\n",
       "      <th>2</th>\n",
       "      <td>Spectrum Integration</td>\n",
       "      <td>Scenario 1 (30 Mbps)</td>\n",
       "      <td>Rural 1</td>\n",
       "      <td>3129.0</td>\n",
       "      <td>7.919008e+07</td>\n",
       "      <td>60436781.34</td>\n",
       "      <td>0.00</td>\n",
       "      <td>3409691.472</td>\n",
       "      <td>15343611.62</td>\n",
       "      <td>0.0</td>\n",
       "    </tr>\n",
       "    <tr>\n",
       "      <th>3</th>\n",
       "      <td>Hybrid</td>\n",
       "      <td>Scenario 2 (100 Mbps)</td>\n",
       "      <td>Rural 1</td>\n",
       "      <td>3129.0</td>\n",
       "      <td>2.179056e+08</td>\n",
       "      <td>60436781.34</td>\n",
       "      <td>22373478.18</td>\n",
       "      <td>3409691.472</td>\n",
       "      <td>15343611.62</td>\n",
       "      <td>116342086.5</td>\n",
       "    </tr>\n",
       "    <tr>\n",
       "      <th>4</th>\n",
       "      <td>Small Cells</td>\n",
       "      <td>Scenario 2 (100 Mbps)</td>\n",
       "      <td>Rural 1</td>\n",
       "      <td>3129.0</td>\n",
       "      <td>1.387156e+08</td>\n",
       "      <td>0.00</td>\n",
       "      <td>22373478.18</td>\n",
       "      <td>0.000</td>\n",
       "      <td>0.00</td>\n",
       "      <td>116342086.5</td>\n",
       "    </tr>\n",
       "  </tbody>\n",
       "</table>\n",
       "</div>"
      ],
      "text/plain": [
       "               strategy               scenario  geotype  area_km2  \\\n",
       "0                Hybrid   Scenario 1 (30 Mbps)  Rural 1    3129.0   \n",
       "1           Small Cells   Scenario 1 (30 Mbps)  Rural 1    3129.0   \n",
       "2  Spectrum Integration   Scenario 1 (30 Mbps)  Rural 1    3129.0   \n",
       "3                Hybrid  Scenario 2 (100 Mbps)  Rural 1    3129.0   \n",
       "4           Small Cells  Scenario 2 (100 Mbps)  Rural 1    3129.0   \n",
       "\n",
       "           cost    RAN.macro  RAN.small.cells  backhaul.macro  \\\n",
       "0  2.179056e+08  60436781.34      22373478.18     3409691.472   \n",
       "1  1.387156e+08         0.00      22373478.18           0.000   \n",
       "2  7.919008e+07  60436781.34             0.00     3409691.472   \n",
       "3  2.179056e+08  60436781.34      22373478.18     3409691.472   \n",
       "4  1.387156e+08         0.00      22373478.18           0.000   \n",
       "\n",
       "   civil.works.macro  civil.works.small  \n",
       "0        15343611.62        116342086.5  \n",
       "1               0.00        116342086.5  \n",
       "2        15343611.62                0.0  \n",
       "3        15343611.62        116342086.5  \n",
       "4               0.00        116342086.5  "
      ]
     },
     "execution_count": 38,
     "metadata": {},
     "output_type": "execute_result"
    }
   ],
   "source": [
    "df.head()"
   ]
  },
  {
   "cell_type": "code",
   "execution_count": 30,
   "id": "d883c4a6",
   "metadata": {
    "scrolled": true
   },
   "outputs": [
    {
     "data": {
      "text/plain": [
       "strategy             0\n",
       "scenario             0\n",
       "geotype              0\n",
       "area_km2             0\n",
       "cost                 0\n",
       "RAN.macro            0\n",
       "RAN.small.cells      0\n",
       "backhaul.macro       0\n",
       "civil.works.macro    0\n",
       "civil.works.small    0\n",
       "dtype: int64"
      ]
     },
     "execution_count": 30,
     "metadata": {},
     "output_type": "execute_result"
    }
   ],
   "source": [
    "df.isnull().sum()"
   ]
  },
  {
   "cell_type": "code",
   "execution_count": 31,
   "id": "d6a61670",
   "metadata": {},
   "outputs": [
    {
     "data": {
      "text/plain": [
       "array(['Rural 1', 'Rural 2', 'Rural 3', 'Rural 4', 'Suburban 1',\n",
       "       'Suburban 2', 'Urban'], dtype=object)"
      ]
     },
     "execution_count": 31,
     "metadata": {},
     "output_type": "execute_result"
    }
   ],
   "source": [
    "df.geotype.unique()"
   ]
  },
  {
   "cell_type": "code",
   "execution_count": 32,
   "id": "e70efe6b",
   "metadata": {},
   "outputs": [
    {
     "data": {
      "text/plain": [
       "array([ 3129. ,  3480.7,  6411.1, 19805. ,   634.8,  1199.4,   158. ])"
      ]
     },
     "execution_count": 32,
     "metadata": {},
     "output_type": "execute_result"
    }
   ],
   "source": [
    "df.area_km2.unique()"
   ]
  },
  {
   "cell_type": "markdown",
   "id": "f228c867",
   "metadata": {},
   "source": [
    "    Using population density data from the demand module, postcodes statistical units are grouped based on a set of boundaries representing different percentiles of the population. Seven settlement types are used including \n",
    "    \n",
    "- **Urban**  (≥7348 persons per km2), \n",
    "- **Suburban 1**  (≥4046 persons per km2), \n",
    "- **Suburban 2**   (≥1949 persons per km2), \n",
    "- **Rural 1**   (≥672 persons per km2), \n",
    "- **Rural 2**   (≥346 persons per km2), \n",
    "- **Rural 3**   (≥191 persons per km2),\n",
    "- **Rural 4**   (≥0 persons per km2)\n"
   ]
  },
  {
   "cell_type": "code",
   "execution_count": 50,
   "id": "c773f33a",
   "metadata": {},
   "outputs": [],
   "source": [
    "# Sort the values \n",
    "sorted_df = df.sort_values(by=['cost'],ascending=False)"
   ]
  },
  {
   "cell_type": "code",
   "execution_count": 51,
   "id": "d0bbbb3c",
   "metadata": {},
   "outputs": [],
   "source": [
    "sorted_df.loc[:, \"cost\"] ='€'+ sorted_df[\"cost\"].map('{:,.0f}'.format)"
   ]
  },
  {
   "cell_type": "code",
   "execution_count": 54,
   "id": "055947b0",
   "metadata": {
    "scrolled": true
   },
   "outputs": [
    {
     "data": {
      "text/html": [
       "<div>\n",
       "<style scoped>\n",
       "    .dataframe tbody tr th:only-of-type {\n",
       "        vertical-align: middle;\n",
       "    }\n",
       "\n",
       "    .dataframe tbody tr th {\n",
       "        vertical-align: top;\n",
       "    }\n",
       "\n",
       "    .dataframe thead th {\n",
       "        text-align: right;\n",
       "    }\n",
       "</style>\n",
       "<table border=\"1\" class=\"dataframe\">\n",
       "  <thead>\n",
       "    <tr style=\"text-align: right;\">\n",
       "      <th></th>\n",
       "      <th>strategy</th>\n",
       "      <th>scenario</th>\n",
       "      <th>geotype</th>\n",
       "      <th>area_km2</th>\n",
       "      <th>cost</th>\n",
       "      <th>RAN.macro</th>\n",
       "      <th>RAN.small.cells</th>\n",
       "      <th>backhaul.macro</th>\n",
       "      <th>civil.works.macro</th>\n",
       "      <th>civil.works.small</th>\n",
       "    </tr>\n",
       "  </thead>\n",
       "  <tbody>\n",
       "    <tr>\n",
       "      <th>33</th>\n",
       "      <td>Hybrid</td>\n",
       "      <td>Scenario 3 (300 Mbps)</td>\n",
       "      <td>Rural 4</td>\n",
       "      <td>19805.0</td>\n",
       "      <td>€776,462,626</td>\n",
       "      <td>1.054453e+08</td>\n",
       "      <td>96714496.95</td>\n",
       "      <td>4.461718e+07</td>\n",
       "      <td>2.677031e+07</td>\n",
       "      <td>502915384.1</td>\n",
       "    </tr>\n",
       "    <tr>\n",
       "      <th>30</th>\n",
       "      <td>Hybrid</td>\n",
       "      <td>Scenario 2 (100 Mbps)</td>\n",
       "      <td>Rural 4</td>\n",
       "      <td>19805.0</td>\n",
       "      <td>€776,462,626</td>\n",
       "      <td>1.054453e+08</td>\n",
       "      <td>96714496.95</td>\n",
       "      <td>4.461718e+07</td>\n",
       "      <td>2.677031e+07</td>\n",
       "      <td>502915384.1</td>\n",
       "    </tr>\n",
       "    <tr>\n",
       "      <th>31</th>\n",
       "      <td>Small Cells</td>\n",
       "      <td>Scenario 2 (100 Mbps)</td>\n",
       "      <td>Rural 4</td>\n",
       "      <td>19805.0</td>\n",
       "      <td>€599,629,881</td>\n",
       "      <td>0.000000e+00</td>\n",
       "      <td>96714496.95</td>\n",
       "      <td>0.000000e+00</td>\n",
       "      <td>0.000000e+00</td>\n",
       "      <td>502915384.1</td>\n",
       "    </tr>\n",
       "    <tr>\n",
       "      <th>34</th>\n",
       "      <td>Small Cells</td>\n",
       "      <td>Scenario 3 (300 Mbps)</td>\n",
       "      <td>Rural 4</td>\n",
       "      <td>19805.0</td>\n",
       "      <td>€599,629,881</td>\n",
       "      <td>0.000000e+00</td>\n",
       "      <td>96714496.95</td>\n",
       "      <td>0.000000e+00</td>\n",
       "      <td>0.000000e+00</td>\n",
       "      <td>502915384.1</td>\n",
       "    </tr>\n",
       "    <tr>\n",
       "      <th>18</th>\n",
       "      <td>Hybrid</td>\n",
       "      <td>Scenario 1 (30 Mbps)</td>\n",
       "      <td>Rural 3</td>\n",
       "      <td>6411.1</td>\n",
       "      <td>€336,402,496</td>\n",
       "      <td>3.800797e+07</td>\n",
       "      <td>44496649.90</td>\n",
       "      <td>1.286588e+07</td>\n",
       "      <td>9.649414e+06</td>\n",
       "      <td>231382579.5</td>\n",
       "    </tr>\n",
       "    <tr>\n",
       "      <th>24</th>\n",
       "      <td>Hybrid</td>\n",
       "      <td>Scenario 3 (300 Mbps)</td>\n",
       "      <td>Rural 3</td>\n",
       "      <td>6411.1</td>\n",
       "      <td>€336,402,496</td>\n",
       "      <td>3.800797e+07</td>\n",
       "      <td>44496649.90</td>\n",
       "      <td>1.286588e+07</td>\n",
       "      <td>9.649414e+06</td>\n",
       "      <td>231382579.5</td>\n",
       "    </tr>\n",
       "    <tr>\n",
       "      <th>21</th>\n",
       "      <td>Hybrid</td>\n",
       "      <td>Scenario 2 (100 Mbps)</td>\n",
       "      <td>Rural 3</td>\n",
       "      <td>6411.1</td>\n",
       "      <td>€336,402,496</td>\n",
       "      <td>3.800797e+07</td>\n",
       "      <td>44496649.90</td>\n",
       "      <td>1.286588e+07</td>\n",
       "      <td>9.649414e+06</td>\n",
       "      <td>231382579.5</td>\n",
       "    </tr>\n",
       "    <tr>\n",
       "      <th>6</th>\n",
       "      <td>Hybrid</td>\n",
       "      <td>Scenario 3 (300 Mbps)</td>\n",
       "      <td>Rural 1</td>\n",
       "      <td>3129.0</td>\n",
       "      <td>€315,525,854</td>\n",
       "      <td>6.043678e+07</td>\n",
       "      <td>38118672.55</td>\n",
       "      <td>3.409691e+06</td>\n",
       "      <td>1.534361e+07</td>\n",
       "      <td>198217097.3</td>\n",
       "    </tr>\n",
       "    <tr>\n",
       "      <th>51</th>\n",
       "      <td>Hybrid</td>\n",
       "      <td>Scenario 3 (300 Mbps)</td>\n",
       "      <td>Suburban 2</td>\n",
       "      <td>1199.4</td>\n",
       "      <td>€286,289,941</td>\n",
       "      <td>4.216866e+07</td>\n",
       "      <td>37647670.99</td>\n",
       "      <td>0.000000e+00</td>\n",
       "      <td>1.070572e+07</td>\n",
       "      <td>195767889.1</td>\n",
       "    </tr>\n",
       "    <tr>\n",
       "      <th>42</th>\n",
       "      <td>Hybrid</td>\n",
       "      <td>Scenario 3 (300 Mbps)</td>\n",
       "      <td>Suburban 1</td>\n",
       "      <td>634.8</td>\n",
       "      <td>€279,180,503</td>\n",
       "      <td>3.715592e+07</td>\n",
       "      <td>37514755.84</td>\n",
       "      <td>0.000000e+00</td>\n",
       "      <td>9.433097e+06</td>\n",
       "      <td>195076730.4</td>\n",
       "    </tr>\n",
       "  </tbody>\n",
       "</table>\n",
       "</div>"
      ],
      "text/plain": [
       "       strategy               scenario     geotype  area_km2          cost  \\\n",
       "33       Hybrid  Scenario 3 (300 Mbps)     Rural 4   19805.0  €776,462,626   \n",
       "30       Hybrid  Scenario 2 (100 Mbps)     Rural 4   19805.0  €776,462,626   \n",
       "31  Small Cells  Scenario 2 (100 Mbps)     Rural 4   19805.0  €599,629,881   \n",
       "34  Small Cells  Scenario 3 (300 Mbps)     Rural 4   19805.0  €599,629,881   \n",
       "18       Hybrid   Scenario 1 (30 Mbps)     Rural 3    6411.1  €336,402,496   \n",
       "24       Hybrid  Scenario 3 (300 Mbps)     Rural 3    6411.1  €336,402,496   \n",
       "21       Hybrid  Scenario 2 (100 Mbps)     Rural 3    6411.1  €336,402,496   \n",
       "6        Hybrid  Scenario 3 (300 Mbps)     Rural 1    3129.0  €315,525,854   \n",
       "51       Hybrid  Scenario 3 (300 Mbps)  Suburban 2    1199.4  €286,289,941   \n",
       "42       Hybrid  Scenario 3 (300 Mbps)  Suburban 1     634.8  €279,180,503   \n",
       "\n",
       "       RAN.macro  RAN.small.cells  backhaul.macro  civil.works.macro  \\\n",
       "33  1.054453e+08      96714496.95    4.461718e+07       2.677031e+07   \n",
       "30  1.054453e+08      96714496.95    4.461718e+07       2.677031e+07   \n",
       "31  0.000000e+00      96714496.95    0.000000e+00       0.000000e+00   \n",
       "34  0.000000e+00      96714496.95    0.000000e+00       0.000000e+00   \n",
       "18  3.800797e+07      44496649.90    1.286588e+07       9.649414e+06   \n",
       "24  3.800797e+07      44496649.90    1.286588e+07       9.649414e+06   \n",
       "21  3.800797e+07      44496649.90    1.286588e+07       9.649414e+06   \n",
       "6   6.043678e+07      38118672.55    3.409691e+06       1.534361e+07   \n",
       "51  4.216866e+07      37647670.99    0.000000e+00       1.070572e+07   \n",
       "42  3.715592e+07      37514755.84    0.000000e+00       9.433097e+06   \n",
       "\n",
       "    civil.works.small  \n",
       "33        502915384.1  \n",
       "30        502915384.1  \n",
       "31        502915384.1  \n",
       "34        502915384.1  \n",
       "18        231382579.5  \n",
       "24        231382579.5  \n",
       "21        231382579.5  \n",
       "6         198217097.3  \n",
       "51        195767889.1  \n",
       "42        195076730.4  "
      ]
     },
     "execution_count": 54,
     "metadata": {},
     "output_type": "execute_result"
    }
   ],
   "source": [
    "sorted_df.head(10)"
   ]
  },
  {
   "cell_type": "markdown",
   "id": "f747bad5",
   "metadata": {},
   "source": [
    "### Cost Type"
   ]
  },
  {
   "cell_type": "code",
   "execution_count": 19,
   "id": "48efc137",
   "metadata": {
    "scrolled": false
   },
   "outputs": [
    {
     "data": {
      "text/html": [
       "<div>\n",
       "<style scoped>\n",
       "    .dataframe tbody tr th:only-of-type {\n",
       "        vertical-align: middle;\n",
       "    }\n",
       "\n",
       "    .dataframe tbody tr th {\n",
       "        vertical-align: top;\n",
       "    }\n",
       "\n",
       "    .dataframe thead th {\n",
       "        text-align: right;\n",
       "    }\n",
       "</style>\n",
       "<table border=\"1\" class=\"dataframe\">\n",
       "  <thead>\n",
       "    <tr style=\"text-align: right;\">\n",
       "      <th></th>\n",
       "      <th>RAN.macro</th>\n",
       "      <th>RAN.small.cells</th>\n",
       "      <th>backhaul.macro</th>\n",
       "      <th>civil.works.macro</th>\n",
       "      <th>civil.works.small</th>\n",
       "    </tr>\n",
       "  </thead>\n",
       "  <tbody>\n",
       "    <tr>\n",
       "      <th>0</th>\n",
       "      <td>60436781.34</td>\n",
       "      <td>2.237348e+07</td>\n",
       "      <td>3409691.472</td>\n",
       "      <td>1.534361e+07</td>\n",
       "      <td>1.163421e+08</td>\n",
       "    </tr>\n",
       "    <tr>\n",
       "      <th>1</th>\n",
       "      <td>0.00</td>\n",
       "      <td>2.237348e+07</td>\n",
       "      <td>0.000</td>\n",
       "      <td>0.000000e+00</td>\n",
       "      <td>1.163421e+08</td>\n",
       "    </tr>\n",
       "    <tr>\n",
       "      <th>2</th>\n",
       "      <td>60436781.34</td>\n",
       "      <td>0.000000e+00</td>\n",
       "      <td>3409691.472</td>\n",
       "      <td>1.534361e+07</td>\n",
       "      <td>0.000000e+00</td>\n",
       "    </tr>\n",
       "    <tr>\n",
       "      <th>3</th>\n",
       "      <td>60436781.34</td>\n",
       "      <td>2.237348e+07</td>\n",
       "      <td>3409691.472</td>\n",
       "      <td>1.534361e+07</td>\n",
       "      <td>1.163421e+08</td>\n",
       "    </tr>\n",
       "    <tr>\n",
       "      <th>4</th>\n",
       "      <td>0.00</td>\n",
       "      <td>2.237348e+07</td>\n",
       "      <td>0.000</td>\n",
       "      <td>0.000000e+00</td>\n",
       "      <td>1.163421e+08</td>\n",
       "    </tr>\n",
       "    <tr>\n",
       "      <th>...</th>\n",
       "      <td>...</td>\n",
       "      <td>...</td>\n",
       "      <td>...</td>\n",
       "      <td>...</td>\n",
       "      <td>...</td>\n",
       "    </tr>\n",
       "    <tr>\n",
       "      <th>58</th>\n",
       "      <td>0.00</td>\n",
       "      <td>6.926821e+06</td>\n",
       "      <td>0.000</td>\n",
       "      <td>0.000000e+00</td>\n",
       "      <td>3.601947e+07</td>\n",
       "    </tr>\n",
       "    <tr>\n",
       "      <th>59</th>\n",
       "      <td>18069206.92</td>\n",
       "      <td>0.000000e+00</td>\n",
       "      <td>0.000</td>\n",
       "      <td>4.587387e+06</td>\n",
       "      <td>0.000000e+00</td>\n",
       "    </tr>\n",
       "    <tr>\n",
       "      <th>60</th>\n",
       "      <td>18069206.92</td>\n",
       "      <td>2.200660e+07</td>\n",
       "      <td>0.000</td>\n",
       "      <td>4.587387e+06</td>\n",
       "      <td>1.144343e+08</td>\n",
       "    </tr>\n",
       "    <tr>\n",
       "      <th>61</th>\n",
       "      <td>0.00</td>\n",
       "      <td>2.228905e+07</td>\n",
       "      <td>0.000</td>\n",
       "      <td>0.000000e+00</td>\n",
       "      <td>1.159031e+08</td>\n",
       "    </tr>\n",
       "    <tr>\n",
       "      <th>62</th>\n",
       "      <td>18069206.92</td>\n",
       "      <td>0.000000e+00</td>\n",
       "      <td>0.000</td>\n",
       "      <td>4.587387e+06</td>\n",
       "      <td>0.000000e+00</td>\n",
       "    </tr>\n",
       "  </tbody>\n",
       "</table>\n",
       "<p>63 rows × 5 columns</p>\n",
       "</div>"
      ],
      "text/plain": [
       "      RAN.macro  RAN.small.cells  backhaul.macro  civil.works.macro  \\\n",
       "0   60436781.34     2.237348e+07     3409691.472       1.534361e+07   \n",
       "1          0.00     2.237348e+07           0.000       0.000000e+00   \n",
       "2   60436781.34     0.000000e+00     3409691.472       1.534361e+07   \n",
       "3   60436781.34     2.237348e+07     3409691.472       1.534361e+07   \n",
       "4          0.00     2.237348e+07           0.000       0.000000e+00   \n",
       "..          ...              ...             ...                ...   \n",
       "58         0.00     6.926821e+06           0.000       0.000000e+00   \n",
       "59  18069206.92     0.000000e+00           0.000       4.587387e+06   \n",
       "60  18069206.92     2.200660e+07           0.000       4.587387e+06   \n",
       "61         0.00     2.228905e+07           0.000       0.000000e+00   \n",
       "62  18069206.92     0.000000e+00           0.000       4.587387e+06   \n",
       "\n",
       "    civil.works.small  \n",
       "0        1.163421e+08  \n",
       "1        1.163421e+08  \n",
       "2        0.000000e+00  \n",
       "3        1.163421e+08  \n",
       "4        1.163421e+08  \n",
       "..                ...  \n",
       "58       3.601947e+07  \n",
       "59       0.000000e+00  \n",
       "60       1.144343e+08  \n",
       "61       1.159031e+08  \n",
       "62       0.000000e+00  \n",
       "\n",
       "[63 rows x 5 columns]"
      ]
     },
     "execution_count": 19,
     "metadata": {},
     "output_type": "execute_result"
    }
   ],
   "source": [
    "cost_type = df.iloc[ : , 5: ]\n",
    "cost_type"
   ]
  },
  {
   "attachments": {
    "image-2.png": {
     "image/png": "[encoded data removed]"
    },
    "image.png": {
     "image/png": "[encoded data removed]"
    }
   },
   "cell_type": "markdown",
   "id": "71f22b40",
   "metadata": {},
   "source": [
    " **A Radio Access Network (RAN):** \n",
    "         \n",
    "    RAN is the part of a telecommunications system that connects individual devices to other parts of a network through radio connections. A RAN resides between user equipment, such as a mobile phone, a computer or any remotely controlled machine, and provides the connection with its core network. The RAN is a major component of wireless telecommunications and has evolved through the generations of mobile networking leading up to 5G.A RAN provides access and coordinates the management of resources across the radio sites. A handset or other device is wirelessly connected to a backbone, or core network, and the RAN sends its signal to various wireless end points, so it can travel with other networks’ traffic. A single handset/phone could be connected at the same time to multiple RANs, which is sometimes called dual-mode handsets.\n",
    "   ![image.png](attachment:image.png)\n",
    "      \n",
    "    In a 5G RAN, the antenna and supporting software support 5G New Radio (NR), a RAT used by 5G networks. Nodes specific to the 5G RAN are called gNBs. They are responsible for all functions related to radio technology. The gNB nodes support NR devices via the NR user plane and control plane protocols.\n",
    "\n",
    " **Backhoul:** \n",
    "        \n",
    "    The backhaul of a network consists of links from the core network to subnetworks. In 5G, the mobile network must be linked to the wired network through the backhaul. Thus, 5G backhaul refers to the signal between the 5G core and remote sites or networks.\n",
    "    The 5G backhaul will need to support a large bandwidth of devices and data, up to hundreds of gigabits of traffic from the core network. Building an efficient backhaul is critical to 5G to enable high speeds, large capacities and opening up a high bandwidth for numerous connected devices.Nowadays users demand faster speeds, quicker downloads, and quality internet connections everywhere they go. 5G backhaul enables devices to wirelessly connect wherever they are. Additionally, any type of device can connect including smart phones, smart cities, industrial equipment and medical devices.\n",
    "\n",
    "![image-2.png](attachment:image-2.png)\n"
   ]
  },
  {
   "cell_type": "markdown",
   "id": "6e2936f8",
   "metadata": {},
   "source": [
    "### Geotype Cost Per km Bar Plot"
   ]
  },
  {
   "cell_type": "code",
   "execution_count": 58,
   "id": "eba5f7fd",
   "metadata": {
    "scrolled": true
   },
   "outputs": [
    {
     "data": {
      "application/vnd.plotly.v1+json": {
       "config": {
        "plotlyServerURL": "https://plot.ly"
       },
       "data": [
        {
         "alignmentgroup": "True",
         "hovertemplate": "geotype=%{x}<br>cost=%{y}<br>area_km2=%{marker.color}<extra></extra>",
         "legendgroup": "",
         "marker": {
          "color": [
           3129,
           3129,
           3129,
           3129,
           3129,
           3129,
           3129,
           3129,
           3129,
           3480.7,
           3480.7,
           3480.7,
           3480.7,
           3480.7,
           3480.7,
           3480.7,
           3480.7,
           3480.7,
           6411.1,
           6411.1,
           6411.1,
           6411.1,
           6411.1,
           6411.1,
           6411.1,
           6411.1,
           6411.1,
           19805,
           19805,
           19805,
           19805,
           19805,
           19805,
           19805,
           19805,
           19805,
           634.8,
           634.8,
           634.8,
           634.8,
           634.8,
           634.8,
           634.8,
           634.8,
           634.8,
           1199.4,
           1199.4,
           1199.4,
           1199.4,
           1199.4,
           1199.4,
           1199.4,
           1199.4,
           1199.4,
           158,
           158,
           158,
           158,
           158,
           158,
           158,
           158,
           158
          ],
          "coloraxis": "coloraxis",
          "pattern": {
           "shape": ""
          }
         },
         "name": "",
         "offsetgroup": "",
         "orientation": "v",
         "showlegend": false,
         "textposition": "auto",
         "type": "bar",
         "x": [
          "Rural 1",
          "Rural 1",
          "Rural 1",
          "Rural 1",
          "Rural 1",
          "Rural 1",
          "Rural 1",
          "Rural 1",
          "Rural 1",
          "Rural 2",
          "Rural 2",
          "Rural 2",
          "Rural 2",
          "Rural 2",
          "Rural 2",
          "Rural 2",
          "Rural 2",
          "Rural 2",
          "Rural 3",
          "Rural 3",
          "Rural 3",
          "Rural 3",
          "Rural 3",
          "Rural 3",
          "Rural 3",
          "Rural 3",
          "Rural 3",
          "Rural 4",
          "Rural 4",
          "Rural 4",
          "Rural 4",
          "Rural 4",
          "Rural 4",
          "Rural 4",
          "Rural 4",
          "Rural 4",
          "Suburban 1",
          "Suburban 1",
          "Suburban 1",
          "Suburban 1",
          "Suburban 1",
          "Suburban 1",
          "Suburban 1",
          "Suburban 1",
          "Suburban 1",
          "Suburban 2",
          "Suburban 2",
          "Suburban 2",
          "Suburban 2",
          "Suburban 2",
          "Suburban 2",
          "Suburban 2",
          "Suburban 2",
          "Suburban 2",
          "Urban",
          "Urban",
          "Urban",
          "Urban",
          "Urban",
          "Urban",
          "Urban",
          "Urban",
          "Urban"
         ],
         "xaxis": "x",
         "y": [
          217905649.2,
          138715564.7,
          79190084.44,
          217905649.2,
          138715564.7,
          79190084.44,
          315525854.3,
          238981845.4,
          79190084.44,
          196327435.4,
          146751203.8,
          49576231.58,
          196327435.4,
          146751203.8,
          49576231.58,
          196327435.4,
          146751203.8,
          49576231.58,
          336402496.3,
          275879229.4,
          60523266.94,
          336402496.3,
          275879229.4,
          60523266.94,
          336402496.3,
          275879229.4,
          60523266.94,
          38107810.5,
          0,
          38107810.5,
          776462626.3,
          599629881.1,
          176832745.2,
          776462626.3,
          599629881.1,
          176832745.2,
          76699191.21,
          30110174.74,
          46589016.5,
          115686518.3,
          72541385.89,
          46589016.5,
          279180502.7,
          236035370.2,
          46589016.5,
          108764874.3,
          55890493.09,
          52874381.27,
          121551166,
          72406432.72,
          52874381.27,
          286289941.4,
          237145208.1,
          52874381.27,
          30692232.79,
          9610259.198,
          22656593.72,
          63851710.66,
          42946291.61,
          22656593.72,
          159097517.6,
          138192098.5,
          22656593.72
         ],
         "yaxis": "y"
        }
       ],
       "layout": {
        "barmode": "relative",
        "coloraxis": {
         "colorbar": {
          "title": {
           "text": "area_km2"
          }
         },
         "colorscale": [
          [
           0,
           "#0d0887"
          ],
          [
           0.1111111111111111,
           "#46039f"
          ],
          [
           0.2222222222222222,
           "#7201a8"
          ],
          [
           0.3333333333333333,
           "#9c179e"
          ],
          [
           0.4444444444444444,
           "#bd3786"
          ],
          [
           0.5555555555555556,
           "#d8576b"
          ],
          [
           0.6666666666666666,
           "#ed7953"
          ],
          [
           0.7777777777777778,
           "#fb9f3a"
          ],
          [
           0.8888888888888888,
           "#fdca26"
          ],
          [
           1,
           "#f0f921"
          ]
         ]
        },
        "height": 400,
        "legend": {
         "tracegroupgap": 0
        },
        "template": {
         "data": {
          "bar": [
           {
            "error_x": {
             "color": "#2a3f5f"
            },
            "error_y": {
             "color": "#2a3f5f"
            },
            "marker": {
             "line": {
              "color": "#E5ECF6",
              "width": 0.5
             },
             "pattern": {
              "fillmode": "overlay",
              "size": 10,
              "solidity": 0.2
             }
            },
            "type": "bar"
           }
          ],
          "barpolar": [
           {
            "marker": {
             "line": {
              "color": "#E5ECF6",
              "width": 0.5
             },
             "pattern": {
              "fillmode": "overlay",
              "size": 10,
              "solidity": 0.2
             }
            },
            "type": "barpolar"
           }
          ],
          "carpet": [
           {
            "aaxis": {
             "endlinecolor": "#2a3f5f",
             "gridcolor": "white",
             "linecolor": "white",
             "minorgridcolor": "white",
             "startlinecolor": "#2a3f5f"
            },
            "baxis": {
             "endlinecolor": "#2a3f5f",
             "gridcolor": "white",
             "linecolor": "white",
             "minorgridcolor": "white",
             "startlinecolor": "#2a3f5f"
            },
            "type": "carpet"
           }
          ],
          "choropleth": [
           {
            "colorbar": {
             "outlinewidth": 0,
             "ticks": ""
            },
            "type": "choropleth"
           }
          ],
          "contour": [
           {
            "colorbar": {
             "outlinewidth": 0,
             "ticks": ""
            },
            "colorscale": [
             [
              0,
              "#0d0887"
             ],
             [
              0.1111111111111111,
              "#46039f"
             ],
             [
              0.2222222222222222,
              "#7201a8"
             ],
             [
              0.3333333333333333,
              "#9c179e"
             ],
             [
              0.4444444444444444,
              "#bd3786"
             ],
             [
              0.5555555555555556,
              "#d8576b"
             ],
             [
              0.6666666666666666,
              "#ed7953"
             ],
             [
              0.7777777777777778,
              "#fb9f3a"
             ],
             [
              0.8888888888888888,
              "#fdca26"
             ],
             [
              1,
              "#f0f921"
             ]
            ],
            "type": "contour"
           }
          ],
          "contourcarpet": [
           {
            "colorbar": {
             "outlinewidth": 0,
             "ticks": ""
            },
            "type": "contourcarpet"
           }
          ],
          "heatmap": [
           {
            "colorbar": {
             "outlinewidth": 0,
             "ticks": ""
            },
            "colorscale": [
             [
              0,
              "#0d0887"
             ],
             [
              0.1111111111111111,
              "#46039f"
             ],
             [
              0.2222222222222222,
              "#7201a8"
             ],
             [
              0.3333333333333333,
              "#9c179e"
             ],
             [
              0.4444444444444444,
              "#bd3786"
             ],
             [
              0.5555555555555556,
              "#d8576b"
             ],
             [
              0.6666666666666666,
              "#ed7953"
             ],
             [
              0.7777777777777778,
              "#fb9f3a"
             ],
             [
              0.8888888888888888,
              "#fdca26"
             ],
             [
              1,
              "#f0f921"
             ]
            ],
            "type": "heatmap"
           }
          ],
          "heatmapgl": [
           {
            "colorbar": {
             "outlinewidth": 0,
             "ticks": ""
            },
            "colorscale": [
             [
              0,
              "#0d0887"
             ],
             [
              0.1111111111111111,
              "#46039f"
             ],
             [
              0.2222222222222222,
              "#7201a8"
             ],
             [
              0.3333333333333333,
              "#9c179e"
             ],
             [
              0.4444444444444444,
              "#bd3786"
             ],
             [
              0.5555555555555556,
              "#d8576b"
             ],
             [
              0.6666666666666666,
              "#ed7953"
             ],
             [
              0.7777777777777778,
              "#fb9f3a"
             ],
             [
              0.8888888888888888,
              "#fdca26"
             ],
             [
              1,
              "#f0f921"
             ]
            ],
            "type": "heatmapgl"
           }
          ],
          "histogram": [
           {
            "marker": {
             "pattern": {
              "fillmode": "overlay",
              "size": 10,
              "solidity": 0.2
             }
            },
            "type": "histogram"
           }
          ],
          "histogram2d": [
           {
            "colorbar": {
             "outlinewidth": 0,
             "ticks": ""
            },
            "colorscale": [
             [
              0,
              "#0d0887"
             ],
             [
              0.1111111111111111,
              "#46039f"
             ],
             [
              0.2222222222222222,
              "#7201a8"
             ],
             [
              0.3333333333333333,
              "#9c179e"
             ],
             [
              0.4444444444444444,
              "#bd3786"
             ],
             [
              0.5555555555555556,
              "#d8576b"
             ],
             [
              0.6666666666666666,
              "#ed7953"
             ],
             [
              0.7777777777777778,
              "#fb9f3a"
             ],
             [
              0.8888888888888888,
              "#fdca26"
             ],
             [
              1,
              "#f0f921"
             ]
            ],
            "type": "histogram2d"
           }
          ],
          "histogram2dcontour": [
           {
            "colorbar": {
             "outlinewidth": 0,
             "ticks": ""
            },
            "colorscale": [
             [
              0,
              "#0d0887"
             ],
             [
              0.1111111111111111,
              "#46039f"
             ],
             [
              0.2222222222222222,
              "#7201a8"
             ],
             [
              0.3333333333333333,
              "#9c179e"
             ],
             [
              0.4444444444444444,
              "#bd3786"
             ],
             [
              0.5555555555555556,
              "#d8576b"
             ],
             [
              0.6666666666666666,
              "#ed7953"
             ],
             [
              0.7777777777777778,
              "#fb9f3a"
             ],
             [
              0.8888888888888888,
              "#fdca26"
             ],
             [
              1,
              "#f0f921"
             ]
            ],
            "type": "histogram2dcontour"
           }
          ],
          "mesh3d": [
           {
            "colorbar": {
             "outlinewidth": 0,
             "ticks": ""
            },
            "type": "mesh3d"
           }
          ],
          "parcoords": [
           {
            "line": {
             "colorbar": {
              "outlinewidth": 0,
              "ticks": ""
             }
            },
            "type": "parcoords"
           }
          ],
          "pie": [
           {
            "automargin": true,
            "type": "pie"
           }
          ],
          "scatter": [
           {
            "marker": {
             "colorbar": {
              "outlinewidth": 0,
              "ticks": ""
             }
            },
            "type": "scatter"
           }
          ],
          "scatter3d": [
           {
            "line": {
             "colorbar": {
              "outlinewidth": 0,
              "ticks": ""
             }
            },
            "marker": {
             "colorbar": {
              "outlinewidth": 0,
              "ticks": ""
             }
            },
            "type": "scatter3d"
           }
          ],
          "scattercarpet": [
           {
            "marker": {
             "colorbar": {
              "outlinewidth": 0,
              "ticks": ""
             }
            },
            "type": "scattercarpet"
           }
          ],
          "scattergeo": [
           {
            "marker": {
             "colorbar": {
              "outlinewidth": 0,
              "ticks": ""
             }
            },
            "type": "scattergeo"
           }
          ],
          "scattergl": [
           {
            "marker": {
             "colorbar": {
              "outlinewidth": 0,
              "ticks": ""
             }
            },
            "type": "scattergl"
           }
          ],
          "scattermapbox": [
           {
            "marker": {
             "colorbar": {
              "outlinewidth": 0,
              "ticks": ""
             }
            },
            "type": "scattermapbox"
           }
          ],
          "scatterpolar": [
           {
            "marker": {
             "colorbar": {
              "outlinewidth": 0,
              "ticks": ""
             }
            },
            "type": "scatterpolar"
           }
          ],
          "scatterpolargl": [
           {
            "marker": {
             "colorbar": {
              "outlinewidth": 0,
              "ticks": ""
             }
            },
            "type": "scatterpolargl"
           }
          ],
          "scatterternary": [
           {
            "marker": {
             "colorbar": {
              "outlinewidth": 0,
              "ticks": ""
             }
            },
            "type": "scatterternary"
           }
          ],
          "surface": [
           {
            "colorbar": {
             "outlinewidth": 0,
             "ticks": ""
            },
            "colorscale": [
             [
              0,
              "#0d0887"
             ],
             [
              0.1111111111111111,
              "#46039f"
             ],
             [
              0.2222222222222222,
              "#7201a8"
             ],
             [
              0.3333333333333333,
              "#9c179e"
             ],
             [
              0.4444444444444444,
              "#bd3786"
             ],
             [
              0.5555555555555556,
              "#d8576b"
             ],
             [
              0.6666666666666666,
              "#ed7953"
             ],
             [
              0.7777777777777778,
              "#fb9f3a"
             ],
             [
              0.8888888888888888,
              "#fdca26"
             ],
             [
              1,
              "#f0f921"
             ]
            ],
            "type": "surface"
           }
          ],
          "table": [
           {
            "cells": {
             "fill": {
              "color": "#EBF0F8"
             },
             "line": {
              "color": "white"
             }
            },
            "header": {
             "fill": {
              "color": "#C8D4E3"
             },
             "line": {
              "color": "white"
             }
            },
            "type": "table"
           }
          ]
         },
         "layout": {
          "annotationdefaults": {
           "arrowcolor": "#2a3f5f",
           "arrowhead": 0,
           "arrowwidth": 1
          },
          "autotypenumbers": "strict",
          "coloraxis": {
           "colorbar": {
            "outlinewidth": 0,
            "ticks": ""
           }
          },
          "colorscale": {
           "diverging": [
            [
             0,
             "#8e0152"
            ],
            [
             0.1,
             "#c51b7d"
            ],
            [
             0.2,
             "#de77ae"
            ],
            [
             0.3,
             "#f1b6da"
            ],
            [
             0.4,
             "#fde0ef"
            ],
            [
             0.5,
             "#f7f7f7"
            ],
            [
             0.6,
             "#e6f5d0"
            ],
            [
             0.7,
             "#b8e186"
            ],
            [
             0.8,
             "#7fbc41"
            ],
            [
             0.9,
             "#4d9221"
            ],
            [
             1,
             "#276419"
            ]
           ],
           "sequential": [
            [
             0,
             "#0d0887"
            ],
            [
             0.1111111111111111,
             "#46039f"
            ],
            [
             0.2222222222222222,
             "#7201a8"
            ],
            [
             0.3333333333333333,
             "#9c179e"
            ],
            [
             0.4444444444444444,
             "#bd3786"
            ],
            [
             0.5555555555555556,
             "#d8576b"
            ],
            [
             0.6666666666666666,
             "#ed7953"
            ],
            [
             0.7777777777777778,
             "#fb9f3a"
            ],
            [
             0.8888888888888888,
             "#fdca26"
            ],
            [
             1,
             "#f0f921"
            ]
           ],
           "sequentialminus": [
            [
             0,
             "#0d0887"
            ],
            [
             0.1111111111111111,
             "#46039f"
            ],
            [
             0.2222222222222222,
             "#7201a8"
            ],
            [
             0.3333333333333333,
             "#9c179e"
            ],
            [
             0.4444444444444444,
             "#bd3786"
            ],
            [
             0.5555555555555556,
             "#d8576b"
            ],
            [
             0.6666666666666666,
             "#ed7953"
            ],
            [
             0.7777777777777778,
             "#fb9f3a"
            ],
            [
             0.8888888888888888,
             "#fdca26"
            ],
            [
             1,
             "#f0f921"
            ]
           ]
          },
          "colorway": [
           "#636efa",
           "#EF553B",
           "#00cc96",
           "#ab63fa",
           "#FFA15A",
           "#19d3f3",
           "#FF6692",
           "#B6E880",
           "#FF97FF",
           "#FECB52"
          ],
          "font": {
           "color": "#2a3f5f"
          },
          "geo": {
           "bgcolor": "white",
           "lakecolor": "white",
           "landcolor": "#E5ECF6",
           "showlakes": true,
           "showland": true,
           "subunitcolor": "white"
          },
          "hoverlabel": {
           "align": "left"
          },
          "hovermode": "closest",
          "mapbox": {
           "style": "light"
          },
          "paper_bgcolor": "white",
          "plot_bgcolor": "#E5ECF6",
          "polar": {
           "angularaxis": {
            "gridcolor": "white",
            "linecolor": "white",
            "ticks": ""
           },
           "bgcolor": "#E5ECF6",
           "radialaxis": {
            "gridcolor": "white",
            "linecolor": "white",
            "ticks": ""
           }
          },
          "scene": {
           "xaxis": {
            "backgroundcolor": "#E5ECF6",
            "gridcolor": "white",
            "gridwidth": 2,
            "linecolor": "white",
            "showbackground": true,
            "ticks": "",
            "zerolinecolor": "white"
           },
           "yaxis": {
            "backgroundcolor": "#E5ECF6",
            "gridcolor": "white",
            "gridwidth": 2,
            "linecolor": "white",
            "showbackground": true,
            "ticks": "",
            "zerolinecolor": "white"
           },
           "zaxis": {
            "backgroundcolor": "#E5ECF6",
            "gridcolor": "white",
            "gridwidth": 2,
            "linecolor": "white",
            "showbackground": true,
            "ticks": "",
            "zerolinecolor": "white"
           }
          },
          "shapedefaults": {
           "line": {
            "color": "#2a3f5f"
           }
          },
          "ternary": {
           "aaxis": {
            "gridcolor": "white",
            "linecolor": "white",
            "ticks": ""
           },
           "baxis": {
            "gridcolor": "white",
            "linecolor": "white",
            "ticks": ""
           },
           "bgcolor": "#E5ECF6",
           "caxis": {
            "gridcolor": "white",
            "linecolor": "white",
            "ticks": ""
           }
          },
          "title": {
           "x": 0.05
          },
          "xaxis": {
           "automargin": true,
           "gridcolor": "white",
           "linecolor": "white",
           "ticks": "",
           "title": {
            "standoff": 15
           },
           "zerolinecolor": "white",
           "zerolinewidth": 2
          },
          "yaxis": {
           "automargin": true,
           "gridcolor": "white",
           "linecolor": "white",
           "ticks": "",
           "title": {
            "standoff": 15
           },
           "zerolinecolor": "white",
           "zerolinewidth": 2
          }
         }
        },
        "title": {
         "text": "Geotype Cost Per km Bar Plot",
         "x": 0.5
        },
        "xaxis": {
         "anchor": "y",
         "domain": [
          0,
          1
         ],
         "title": {
          "text": "geotype"
         }
        },
        "yaxis": {
         "anchor": "x",
         "domain": [
          0,
          1
         ],
         "title": {
          "text": "cost"
         }
        }
       }
      },
      "text/html": [
       "<div>                            <div id=\"8efbe4aa-43f5-4226-bef6-5bf5428e0b42\" class=\"plotly-graph-div\" style=\"height:400px; width:100%;\"></div>            <script type=\"text/javascript\">                require([\"plotly\"], function(Plotly) {                    window.PLOTLYENV=window.PLOTLYENV || {};                                    if (document.getElementById(\"8efbe4aa-43f5-4226-bef6-5bf5428e0b42\")) {                    Plotly.newPlot(                        \"8efbe4aa-43f5-4226-bef6-5bf5428e0b42\",                        [{\"alignmentgroup\":\"True\",\"hovertemplate\":\"geotype=%{x}<br>cost=%{y}<br>area_km2=%{marker.color}<extra></extra>\",\"legendgroup\":\"\",\"marker\":{\"color\":[3129.0,3129.0,3129.0,3129.0,3129.0,3129.0,3129.0,3129.0,3129.0,3480.7,3480.7,3480.7,3480.7,3480.7,3480.7,3480.7,3480.7,3480.7,6411.1,6411.1,6411.1,6411.1,6411.1,6411.1,6411.1,6411.1,6411.1,19805.0,19805.0,19805.0,19805.0,19805.0,19805.0,19805.0,19805.0,19805.0,634.8,634.8,634.8,634.8,634.8,634.8,634.8,634.8,634.8,1199.4,1199.4,1199.4,1199.4,1199.4,1199.4,1199.4,1199.4,1199.4,158.0,158.0,158.0,158.0,158.0,158.0,158.0,158.0,158.0],\"coloraxis\":\"coloraxis\",\"pattern\":{\"shape\":\"\"}},\"name\":\"\",\"offsetgroup\":\"\",\"orientation\":\"v\",\"showlegend\":false,\"textposition\":\"auto\",\"type\":\"bar\",\"x\":[\"Rural 1\",\"Rural 1\",\"Rural 1\",\"Rural 1\",\"Rural 1\",\"Rural 1\",\"Rural 1\",\"Rural 1\",\"Rural 1\",\"Rural 2\",\"Rural 2\",\"Rural 2\",\"Rural 2\",\"Rural 2\",\"Rural 2\",\"Rural 2\",\"Rural 2\",\"Rural 2\",\"Rural 3\",\"Rural 3\",\"Rural 3\",\"Rural 3\",\"Rural 3\",\"Rural 3\",\"Rural 3\",\"Rural 3\",\"Rural 3\",\"Rural 4\",\"Rural 4\",\"Rural 4\",\"Rural 4\",\"Rural 4\",\"Rural 4\",\"Rural 4\",\"Rural 4\",\"Rural 4\",\"Suburban 1\",\"Suburban 1\",\"Suburban 1\",\"Suburban 1\",\"Suburban 1\",\"Suburban 1\",\"Suburban 1\",\"Suburban 1\",\"Suburban 1\",\"Suburban 2\",\"Suburban 2\",\"Suburban 2\",\"Suburban 2\",\"Suburban 2\",\"Suburban 2\",\"Suburban 2\",\"Suburban 2\",\"Suburban 2\",\"Urban\",\"Urban\",\"Urban\",\"Urban\",\"Urban\",\"Urban\",\"Urban\",\"Urban\",\"Urban\"],\"xaxis\":\"x\",\"y\":[217905649.2,138715564.7,79190084.44,217905649.2,138715564.7,79190084.44,315525854.3,238981845.4,79190084.44,196327435.4,146751203.8,49576231.58,196327435.4,146751203.8,49576231.58,196327435.4,146751203.8,49576231.58,336402496.3,275879229.4,60523266.94,336402496.3,275879229.4,60523266.94,336402496.3,275879229.4,60523266.94,38107810.5,0.0,38107810.5,776462626.3,599629881.1,176832745.2,776462626.3,599629881.1,176832745.2,76699191.21,30110174.74,46589016.5,115686518.3,72541385.89,46589016.5,279180502.7,236035370.2,46589016.5,108764874.3,55890493.09,52874381.27,121551166.0,72406432.72,52874381.27,286289941.4,237145208.1,52874381.27,30692232.79,9610259.198,22656593.72,63851710.66,42946291.61,22656593.72,159097517.6,138192098.5,22656593.72],\"yaxis\":\"y\"}],                        {\"barmode\":\"relative\",\"coloraxis\":{\"colorbar\":{\"title\":{\"text\":\"area_km2\"}},\"colorscale\":[[0.0,\"#0d0887\"],[0.1111111111111111,\"#46039f\"],[0.2222222222222222,\"#7201a8\"],[0.3333333333333333,\"#9c179e\"],[0.4444444444444444,\"#bd3786\"],[0.5555555555555556,\"#d8576b\"],[0.6666666666666666,\"#ed7953\"],[0.7777777777777778,\"#fb9f3a\"],[0.8888888888888888,\"#fdca26\"],[1.0,\"#f0f921\"]]},\"height\":400,\"legend\":{\"tracegroupgap\":0},\"template\":{\"data\":{\"bar\":[{\"error_x\":{\"color\":\"#2a3f5f\"},\"error_y\":{\"color\":\"#2a3f5f\"},\"marker\":{\"line\":{\"color\":\"#E5ECF6\",\"width\":0.5},\"pattern\":{\"fillmode\":\"overlay\",\"size\":10,\"solidity\":0.2}},\"type\":\"bar\"}],\"barpolar\":[{\"marker\":{\"line\":{\"color\":\"#E5ECF6\",\"width\":0.5},\"pattern\":{\"fillmode\":\"overlay\",\"size\":10,\"solidity\":0.2}},\"type\":\"barpolar\"}],\"carpet\":[{\"aaxis\":{\"endlinecolor\":\"#2a3f5f\",\"gridcolor\":\"white\",\"linecolor\":\"white\",\"minorgridcolor\":\"white\",\"startlinecolor\":\"#2a3f5f\"},\"baxis\":{\"endlinecolor\":\"#2a3f5f\",\"gridcolor\":\"white\",\"linecolor\":\"white\",\"minorgridcolor\":\"white\",\"startlinecolor\":\"#2a3f5f\"},\"type\":\"carpet\"}],\"choropleth\":[{\"colorbar\":{\"outlinewidth\":0,\"ticks\":\"\"},\"type\":\"choropleth\"}],\"contour\":[{\"colorbar\":{\"outlinewidth\":0,\"ticks\":\"\"},\"colorscale\":[[0.0,\"#0d0887\"],[0.1111111111111111,\"#46039f\"],[0.2222222222222222,\"#7201a8\"],[0.3333333333333333,\"#9c179e\"],[0.4444444444444444,\"#bd3786\"],[0.5555555555555556,\"#d8576b\"],[0.6666666666666666,\"#ed7953\"],[0.7777777777777778,\"#fb9f3a\"],[0.8888888888888888,\"#fdca26\"],[1.0,\"#f0f921\"]],\"type\":\"contour\"}],\"contourcarpet\":[{\"colorbar\":{\"outlinewidth\":0,\"ticks\":\"\"},\"type\":\"contourcarpet\"}],\"heatmap\":[{\"colorbar\":{\"outlinewidth\":0,\"ticks\":\"\"},\"colorscale\":[[0.0,\"#0d0887\"],[0.1111111111111111,\"#46039f\"],[0.2222222222222222,\"#7201a8\"],[0.3333333333333333,\"#9c179e\"],[0.4444444444444444,\"#bd3786\"],[0.5555555555555556,\"#d8576b\"],[0.6666666666666666,\"#ed7953\"],[0.7777777777777778,\"#fb9f3a\"],[0.8888888888888888,\"#fdca26\"],[1.0,\"#f0f921\"]],\"type\":\"heatmap\"}],\"heatmapgl\":[{\"colorbar\":{\"outlinewidth\":0,\"ticks\":\"\"},\"colorscale\":[[0.0,\"#0d0887\"],[0.1111111111111111,\"#46039f\"],[0.2222222222222222,\"#7201a8\"],[0.3333333333333333,\"#9c179e\"],[0.4444444444444444,\"#bd3786\"],[0.5555555555555556,\"#d8576b\"],[0.6666666666666666,\"#ed7953\"],[0.7777777777777778,\"#fb9f3a\"],[0.8888888888888888,\"#fdca26\"],[1.0,\"#f0f921\"]],\"type\":\"heatmapgl\"}],\"histogram\":[{\"marker\":{\"pattern\":{\"fillmode\":\"overlay\",\"size\":10,\"solidity\":0.2}},\"type\":\"histogram\"}],\"histogram2d\":[{\"colorbar\":{\"outlinewidth\":0,\"ticks\":\"\"},\"colorscale\":[[0.0,\"#0d0887\"],[0.1111111111111111,\"#46039f\"],[0.2222222222222222,\"#7201a8\"],[0.3333333333333333,\"#9c179e\"],[0.4444444444444444,\"#bd3786\"],[0.5555555555555556,\"#d8576b\"],[0.6666666666666666,\"#ed7953\"],[0.7777777777777778,\"#fb9f3a\"],[0.8888888888888888,\"#fdca26\"],[1.0,\"#f0f921\"]],\"type\":\"histogram2d\"}],\"histogram2dcontour\":[{\"colorbar\":{\"outlinewidth\":0,\"ticks\":\"\"},\"colorscale\":[[0.0,\"#0d0887\"],[0.1111111111111111,\"#46039f\"],[0.2222222222222222,\"#7201a8\"],[0.3333333333333333,\"#9c179e\"],[0.4444444444444444,\"#bd3786\"],[0.5555555555555556,\"#d8576b\"],[0.6666666666666666,\"#ed7953\"],[0.7777777777777778,\"#fb9f3a\"],[0.8888888888888888,\"#fdca26\"],[1.0,\"#f0f921\"]],\"type\":\"histogram2dcontour\"}],\"mesh3d\":[{\"colorbar\":{\"outlinewidth\":0,\"ticks\":\"\"},\"type\":\"mesh3d\"}],\"parcoords\":[{\"line\":{\"colorbar\":{\"outlinewidth\":0,\"ticks\":\"\"}},\"type\":\"parcoords\"}],\"pie\":[{\"automargin\":true,\"type\":\"pie\"}],\"scatter\":[{\"marker\":{\"colorbar\":{\"outlinewidth\":0,\"ticks\":\"\"}},\"type\":\"scatter\"}],\"scatter3d\":[{\"line\":{\"colorbar\":{\"outlinewidth\":0,\"ticks\":\"\"}},\"marker\":{\"colorbar\":{\"outlinewidth\":0,\"ticks\":\"\"}},\"type\":\"scatter3d\"}],\"scattercarpet\":[{\"marker\":{\"colorbar\":{\"outlinewidth\":0,\"ticks\":\"\"}},\"type\":\"scattercarpet\"}],\"scattergeo\":[{\"marker\":{\"colorbar\":{\"outlinewidth\":0,\"ticks\":\"\"}},\"type\":\"scattergeo\"}],\"scattergl\":[{\"marker\":{\"colorbar\":{\"outlinewidth\":0,\"ticks\":\"\"}},\"type\":\"scattergl\"}],\"scattermapbox\":[{\"marker\":{\"colorbar\":{\"outlinewidth\":0,\"ticks\":\"\"}},\"type\":\"scattermapbox\"}],\"scatterpolar\":[{\"marker\":{\"colorbar\":{\"outlinewidth\":0,\"ticks\":\"\"}},\"type\":\"scatterpolar\"}],\"scatterpolargl\":[{\"marker\":{\"colorbar\":{\"outlinewidth\":0,\"ticks\":\"\"}},\"type\":\"scatterpolargl\"}],\"scatterternary\":[{\"marker\":{\"colorbar\":{\"outlinewidth\":0,\"ticks\":\"\"}},\"type\":\"scatterternary\"}],\"surface\":[{\"colorbar\":{\"outlinewidth\":0,\"ticks\":\"\"},\"colorscale\":[[0.0,\"#0d0887\"],[0.1111111111111111,\"#46039f\"],[0.2222222222222222,\"#7201a8\"],[0.3333333333333333,\"#9c179e\"],[0.4444444444444444,\"#bd3786\"],[0.5555555555555556,\"#d8576b\"],[0.6666666666666666,\"#ed7953\"],[0.7777777777777778,\"#fb9f3a\"],[0.8888888888888888,\"#fdca26\"],[1.0,\"#f0f921\"]],\"type\":\"surface\"}],\"table\":[{\"cells\":{\"fill\":{\"color\":\"#EBF0F8\"},\"line\":{\"color\":\"white\"}},\"header\":{\"fill\":{\"color\":\"#C8D4E3\"},\"line\":{\"color\":\"white\"}},\"type\":\"table\"}]},\"layout\":{\"annotationdefaults\":{\"arrowcolor\":\"#2a3f5f\",\"arrowhead\":0,\"arrowwidth\":1},\"autotypenumbers\":\"strict\",\"coloraxis\":{\"colorbar\":{\"outlinewidth\":0,\"ticks\":\"\"}},\"colorscale\":{\"diverging\":[[0,\"#8e0152\"],[0.1,\"#c51b7d\"],[0.2,\"#de77ae\"],[0.3,\"#f1b6da\"],[0.4,\"#fde0ef\"],[0.5,\"#f7f7f7\"],[0.6,\"#e6f5d0\"],[0.7,\"#b8e186\"],[0.8,\"#7fbc41\"],[0.9,\"#4d9221\"],[1,\"#276419\"]],\"sequential\":[[0.0,\"#0d0887\"],[0.1111111111111111,\"#46039f\"],[0.2222222222222222,\"#7201a8\"],[0.3333333333333333,\"#9c179e\"],[0.4444444444444444,\"#bd3786\"],[0.5555555555555556,\"#d8576b\"],[0.6666666666666666,\"#ed7953\"],[0.7777777777777778,\"#fb9f3a\"],[0.8888888888888888,\"#fdca26\"],[1.0,\"#f0f921\"]],\"sequentialminus\":[[0.0,\"#0d0887\"],[0.1111111111111111,\"#46039f\"],[0.2222222222222222,\"#7201a8\"],[0.3333333333333333,\"#9c179e\"],[0.4444444444444444,\"#bd3786\"],[0.5555555555555556,\"#d8576b\"],[0.6666666666666666,\"#ed7953\"],[0.7777777777777778,\"#fb9f3a\"],[0.8888888888888888,\"#fdca26\"],[1.0,\"#f0f921\"]]},\"colorway\":[\"#636efa\",\"#EF553B\",\"#00cc96\",\"#ab63fa\",\"#FFA15A\",\"#19d3f3\",\"#FF6692\",\"#B6E880\",\"#FF97FF\",\"#FECB52\"],\"font\":{\"color\":\"#2a3f5f\"},\"geo\":{\"bgcolor\":\"white\",\"lakecolor\":\"white\",\"landcolor\":\"#E5ECF6\",\"showlakes\":true,\"showland\":true,\"subunitcolor\":\"white\"},\"hoverlabel\":{\"align\":\"left\"},\"hovermode\":\"closest\",\"mapbox\":{\"style\":\"light\"},\"paper_bgcolor\":\"white\",\"plot_bgcolor\":\"#E5ECF6\",\"polar\":{\"angularaxis\":{\"gridcolor\":\"white\",\"linecolor\":\"white\",\"ticks\":\"\"},\"bgcolor\":\"#E5ECF6\",\"radialaxis\":{\"gridcolor\":\"white\",\"linecolor\":\"white\",\"ticks\":\"\"}},\"scene\":{\"xaxis\":{\"backgroundcolor\":\"#E5ECF6\",\"gridcolor\":\"white\",\"gridwidth\":2,\"linecolor\":\"white\",\"showbackground\":true,\"ticks\":\"\",\"zerolinecolor\":\"white\"},\"yaxis\":{\"backgroundcolor\":\"#E5ECF6\",\"gridcolor\":\"white\",\"gridwidth\":2,\"linecolor\":\"white\",\"showbackground\":true,\"ticks\":\"\",\"zerolinecolor\":\"white\"},\"zaxis\":{\"backgroundcolor\":\"#E5ECF6\",\"gridcolor\":\"white\",\"gridwidth\":2,\"linecolor\":\"white\",\"showbackground\":true,\"ticks\":\"\",\"zerolinecolor\":\"white\"}},\"shapedefaults\":{\"line\":{\"color\":\"#2a3f5f\"}},\"ternary\":{\"aaxis\":{\"gridcolor\":\"white\",\"linecolor\":\"white\",\"ticks\":\"\"},\"baxis\":{\"gridcolor\":\"white\",\"linecolor\":\"white\",\"ticks\":\"\"},\"bgcolor\":\"#E5ECF6\",\"caxis\":{\"gridcolor\":\"white\",\"linecolor\":\"white\",\"ticks\":\"\"}},\"title\":{\"x\":0.05},\"xaxis\":{\"automargin\":true,\"gridcolor\":\"white\",\"linecolor\":\"white\",\"ticks\":\"\",\"title\":{\"standoff\":15},\"zerolinecolor\":\"white\",\"zerolinewidth\":2},\"yaxis\":{\"automargin\":true,\"gridcolor\":\"white\",\"linecolor\":\"white\",\"ticks\":\"\",\"title\":{\"standoff\":15},\"zerolinecolor\":\"white\",\"zerolinewidth\":2}}},\"title\":{\"text\":\"Geotype Cost Per km Bar Plot\",\"x\":0.5},\"xaxis\":{\"anchor\":\"y\",\"domain\":[0.0,1.0],\"title\":{\"text\":\"geotype\"}},\"yaxis\":{\"anchor\":\"x\",\"domain\":[0.0,1.0],\"title\":{\"text\":\"cost\"}}},                        {\"responsive\": true}                    ).then(function(){\n",
       "                            \n",
       "var gd = document.getElementById('8efbe4aa-43f5-4226-bef6-5bf5428e0b42');\n",
       "var x = new MutationObserver(function (mutations, observer) {{\n",
       "        var display = window.getComputedStyle(gd).display;\n",
       "        if (!display || display === 'none') {{\n",
       "            console.log([gd, 'removed!']);\n",
       "            Plotly.purge(gd);\n",
       "            observer.disconnect();\n",
       "        }}\n",
       "}});\n",
       "\n",
       "// Listen for the removal of the full notebook cells\n",
       "var notebookContainer = gd.closest('#notebook-container');\n",
       "if (notebookContainer) {{\n",
       "    x.observe(notebookContainer, {childList: true});\n",
       "}}\n",
       "\n",
       "// Listen for the clearing of the current output cell\n",
       "var outputEl = gd.closest('.output');\n",
       "if (outputEl) {{\n",
       "    x.observe(outputEl, {childList: true});\n",
       "}}\n",
       "\n",
       "                        })                };                });            </script>        </div>"
      ]
     },
     "metadata": {},
     "output_type": "display_data"
    }
   ],
   "source": [
    "geo_cost_bar = px.bar(df, x=\"geotype\", y=\"cost\", color='area_km2', title=\"Geotype Cost Per km Bar Plot\",\n",
    "labels={'pop':'strategy'}, height=400)\n",
    "geo_cost_bar.update_layout(title_x=0.5)\n",
    "\n",
    "geo_cost_bar.show()"
   ]
  },
  {
   "cell_type": "markdown",
   "id": "99654c73",
   "metadata": {},
   "source": [
    "### Geotype Cost for Scenarios Bar Plot"
   ]
  },
  {
   "cell_type": "code",
   "execution_count": 60,
   "id": "6aa0efe6",
   "metadata": {},
   "outputs": [
    {
     "data": {
      "application/vnd.plotly.v1+json": {
       "config": {
        "plotlyServerURL": "https://plot.ly"
       },
       "data": [
        {
         "alignmentgroup": "True",
         "hovertemplate": "scenario=Scenario 1 (30 Mbps)<br>geotype=%{x}<br>cost=%{y}<extra></extra>",
         "legendgroup": "Scenario 1 (30 Mbps)",
         "marker": {
          "color": "#636efa",
          "pattern": {
           "shape": ""
          }
         },
         "name": "Scenario 1 (30 Mbps)",
         "offsetgroup": "Scenario 1 (30 Mbps)",
         "orientation": "v",
         "showlegend": true,
         "textposition": "auto",
         "type": "bar",
         "x": [
          "Rural 1",
          "Rural 1",
          "Rural 1",
          "Rural 2",
          "Rural 2",
          "Rural 2",
          "Rural 3",
          "Rural 3",
          "Rural 3",
          "Rural 4",
          "Rural 4",
          "Rural 4",
          "Suburban 1",
          "Suburban 1",
          "Suburban 1",
          "Suburban 2",
          "Suburban 2",
          "Suburban 2",
          "Urban",
          "Urban",
          "Urban"
         ],
         "xaxis": "x",
         "y": [
          217905649.2,
          138715564.7,
          79190084.44,
          196327435.4,
          146751203.8,
          49576231.58,
          336402496.3,
          275879229.4,
          60523266.94,
          38107810.5,
          0,
          38107810.5,
          76699191.21,
          30110174.74,
          46589016.5,
          108764874.3,
          55890493.09,
          52874381.27,
          30692232.79,
          9610259.198,
          22656593.72
         ],
         "yaxis": "y"
        },
        {
         "alignmentgroup": "True",
         "hovertemplate": "scenario=Scenario 2 (100 Mbps)<br>geotype=%{x}<br>cost=%{y}<extra></extra>",
         "legendgroup": "Scenario 2 (100 Mbps)",
         "marker": {
          "color": "#EF553B",
          "pattern": {
           "shape": ""
          }
         },
         "name": "Scenario 2 (100 Mbps)",
         "offsetgroup": "Scenario 2 (100 Mbps)",
         "orientation": "v",
         "showlegend": true,
         "textposition": "auto",
         "type": "bar",
         "x": [
          "Rural 1",
          "Rural 1",
          "Rural 1",
          "Rural 2",
          "Rural 2",
          "Rural 2",
          "Rural 3",
          "Rural 3",
          "Rural 3",
          "Rural 4",
          "Rural 4",
          "Rural 4",
          "Suburban 1",
          "Suburban 1",
          "Suburban 1",
          "Suburban 2",
          "Suburban 2",
          "Suburban 2",
          "Urban",
          "Urban",
          "Urban"
         ],
         "xaxis": "x",
         "y": [
          217905649.2,
          138715564.7,
          79190084.44,
          196327435.4,
          146751203.8,
          49576231.58,
          336402496.3,
          275879229.4,
          60523266.94,
          776462626.3,
          599629881.1,
          176832745.2,
          115686518.3,
          72541385.89,
          46589016.5,
          121551166,
          72406432.72,
          52874381.27,
          63851710.66,
          42946291.61,
          22656593.72
         ],
         "yaxis": "y"
        },
        {
         "alignmentgroup": "True",
         "hovertemplate": "scenario=Scenario 3 (300 Mbps)<br>geotype=%{x}<br>cost=%{y}<extra></extra>",
         "legendgroup": "Scenario 3 (300 Mbps)",
         "marker": {
          "color": "#00cc96",
          "pattern": {
           "shape": ""
          }
         },
         "name": "Scenario 3 (300 Mbps)",
         "offsetgroup": "Scenario 3 (300 Mbps)",
         "orientation": "v",
         "showlegend": true,
         "textposition": "auto",
         "type": "bar",
         "x": [
          "Rural 1",
          "Rural 1",
          "Rural 1",
          "Rural 2",
          "Rural 2",
          "Rural 2",
          "Rural 3",
          "Rural 3",
          "Rural 3",
          "Rural 4",
          "Rural 4",
          "Rural 4",
          "Suburban 1",
          "Suburban 1",
          "Suburban 1",
          "Suburban 2",
          "Suburban 2",
          "Suburban 2",
          "Urban",
          "Urban",
          "Urban"
         ],
         "xaxis": "x",
         "y": [
          315525854.3,
          238981845.4,
          79190084.44,
          196327435.4,
          146751203.8,
          49576231.58,
          336402496.3,
          275879229.4,
          60523266.94,
          776462626.3,
          599629881.1,
          176832745.2,
          279180502.7,
          236035370.2,
          46589016.5,
          286289941.4,
          237145208.1,
          52874381.27,
          159097517.6,
          138192098.5,
          22656593.72
         ],
         "yaxis": "y"
        }
       ],
       "layout": {
        "barmode": "relative",
        "height": 400,
        "legend": {
         "title": {
          "text": "scenario"
         },
         "tracegroupgap": 0
        },
        "template": {
         "data": {
          "bar": [
           {
            "error_x": {
             "color": "#2a3f5f"
            },
            "error_y": {
             "color": "#2a3f5f"
            },
            "marker": {
             "line": {
              "color": "#E5ECF6",
              "width": 0.5
             },
             "pattern": {
              "fillmode": "overlay",
              "size": 10,
              "solidity": 0.2
             }
            },
            "type": "bar"
           }
          ],
          "barpolar": [
           {
            "marker": {
             "line": {
              "color": "#E5ECF6",
              "width": 0.5
             },
             "pattern": {
              "fillmode": "overlay",
              "size": 10,
              "solidity": 0.2
             }
            },
            "type": "barpolar"
           }
          ],
          "carpet": [
           {
            "aaxis": {
             "endlinecolor": "#2a3f5f",
             "gridcolor": "white",
             "linecolor": "white",
             "minorgridcolor": "white",
             "startlinecolor": "#2a3f5f"
            },
            "baxis": {
             "endlinecolor": "#2a3f5f",
             "gridcolor": "white",
             "linecolor": "white",
             "minorgridcolor": "white",
             "startlinecolor": "#2a3f5f"
            },
            "type": "carpet"
           }
          ],
          "choropleth": [
           {
            "colorbar": {
             "outlinewidth": 0,
             "ticks": ""
            },
            "type": "choropleth"
           }
          ],
          "contour": [
           {
            "colorbar": {
             "outlinewidth": 0,
             "ticks": ""
            },
            "colorscale": [
             [
              0,
              "#0d0887"
             ],
             [
              0.1111111111111111,
              "#46039f"
             ],
             [
              0.2222222222222222,
              "#7201a8"
             ],
             [
              0.3333333333333333,
              "#9c179e"
             ],
             [
              0.4444444444444444,
              "#bd3786"
             ],
             [
              0.5555555555555556,
              "#d8576b"
             ],
             [
              0.6666666666666666,
              "#ed7953"
             ],
             [
              0.7777777777777778,
              "#fb9f3a"
             ],
             [
              0.8888888888888888,
              "#fdca26"
             ],
             [
              1,
              "#f0f921"
             ]
            ],
            "type": "contour"
           }
          ],
          "contourcarpet": [
           {
            "colorbar": {
             "outlinewidth": 0,
             "ticks": ""
            },
            "type": "contourcarpet"
           }
          ],
          "heatmap": [
           {
            "colorbar": {
             "outlinewidth": 0,
             "ticks": ""
            },
            "colorscale": [
             [
              0,
              "#0d0887"
             ],
             [
              0.1111111111111111,
              "#46039f"
             ],
             [
              0.2222222222222222,
              "#7201a8"
             ],
             [
              0.3333333333333333,
              "#9c179e"
             ],
             [
              0.4444444444444444,
              "#bd3786"
             ],
             [
              0.5555555555555556,
              "#d8576b"
             ],
             [
              0.6666666666666666,
              "#ed7953"
             ],
             [
              0.7777777777777778,
              "#fb9f3a"
             ],
             [
              0.8888888888888888,
              "#fdca26"
             ],
             [
              1,
              "#f0f921"
             ]
            ],
            "type": "heatmap"
           }
          ],
          "heatmapgl": [
           {
            "colorbar": {
             "outlinewidth": 0,
             "ticks": ""
            },
            "colorscale": [
             [
              0,
              "#0d0887"
             ],
             [
              0.1111111111111111,
              "#46039f"
             ],
             [
              0.2222222222222222,
              "#7201a8"
             ],
             [
              0.3333333333333333,
              "#9c179e"
             ],
             [
              0.4444444444444444,
              "#bd3786"
             ],
             [
              0.5555555555555556,
              "#d8576b"
             ],
             [
              0.6666666666666666,
              "#ed7953"
             ],
             [
              0.7777777777777778,
              "#fb9f3a"
             ],
             [
              0.8888888888888888,
              "#fdca26"
             ],
             [
              1,
              "#f0f921"
             ]
            ],
            "type": "heatmapgl"
           }
          ],
          "histogram": [
           {
            "marker": {
             "pattern": {
              "fillmode": "overlay",
              "size": 10,
              "solidity": 0.2
             }
            },
            "type": "histogram"
           }
          ],
          "histogram2d": [
           {
            "colorbar": {
             "outlinewidth": 0,
             "ticks": ""
            },
            "colorscale": [
             [
              0,
              "#0d0887"
             ],
             [
              0.1111111111111111,
              "#46039f"
             ],
             [
              0.2222222222222222,
              "#7201a8"
             ],
             [
              0.3333333333333333,
              "#9c179e"
             ],
             [
              0.4444444444444444,
              "#bd3786"
             ],
             [
              0.5555555555555556,
              "#d8576b"
             ],
             [
              0.6666666666666666,
              "#ed7953"
             ],
             [
              0.7777777777777778,
              "#fb9f3a"
             ],
             [
              0.8888888888888888,
              "#fdca26"
             ],
             [
              1,
              "#f0f921"
             ]
            ],
            "type": "histogram2d"
           }
          ],
          "histogram2dcontour": [
           {
            "colorbar": {
             "outlinewidth": 0,
             "ticks": ""
            },
            "colorscale": [
             [
              0,
              "#0d0887"
             ],
             [
              0.1111111111111111,
              "#46039f"
             ],
             [
              0.2222222222222222,
              "#7201a8"
             ],
             [
              0.3333333333333333,
              "#9c179e"
             ],
             [
              0.4444444444444444,
              "#bd3786"
             ],
             [
              0.5555555555555556,
              "#d8576b"
             ],
             [
              0.6666666666666666,
              "#ed7953"
             ],
             [
              0.7777777777777778,
              "#fb9f3a"
             ],
             [
              0.8888888888888888,
              "#fdca26"
             ],
             [
              1,
              "#f0f921"
             ]
            ],
            "type": "histogram2dcontour"
           }
          ],
          "mesh3d": [
           {
            "colorbar": {
             "outlinewidth": 0,
             "ticks": ""
            },
            "type": "mesh3d"
           }
          ],
          "parcoords": [
           {
            "line": {
             "colorbar": {
              "outlinewidth": 0,
              "ticks": ""
             }
            },
            "type": "parcoords"
           }
          ],
          "pie": [
           {
            "automargin": true,
            "type": "pie"
           }
          ],
          "scatter": [
           {
            "marker": {
             "colorbar": {
              "outlinewidth": 0,
              "ticks": ""
             }
            },
            "type": "scatter"
           }
          ],
          "scatter3d": [
           {
            "line": {
             "colorbar": {
              "outlinewidth": 0,
              "ticks": ""
             }
            },
            "marker": {
             "colorbar": {
              "outlinewidth": 0,
              "ticks": ""
             }
            },
            "type": "scatter3d"
           }
          ],
          "scattercarpet": [
           {
            "marker": {
             "colorbar": {
              "outlinewidth": 0,
              "ticks": ""
             }
            },
            "type": "scattercarpet"
           }
          ],
          "scattergeo": [
           {
            "marker": {
             "colorbar": {
              "outlinewidth": 0,
              "ticks": ""
             }
            },
            "type": "scattergeo"
           }
          ],
          "scattergl": [
           {
            "marker": {
             "colorbar": {
              "outlinewidth": 0,
              "ticks": ""
             }
            },
            "type": "scattergl"
           }
          ],
          "scattermapbox": [
           {
            "marker": {
             "colorbar": {
              "outlinewidth": 0,
              "ticks": ""
             }
            },
            "type": "scattermapbox"
           }
          ],
          "scatterpolar": [
           {
            "marker": {
             "colorbar": {
              "outlinewidth": 0,
              "ticks": ""
             }
            },
            "type": "scatterpolar"
           }
          ],
          "scatterpolargl": [
           {
            "marker": {
             "colorbar": {
              "outlinewidth": 0,
              "ticks": ""
             }
            },
            "type": "scatterpolargl"
           }
          ],
          "scatterternary": [
           {
            "marker": {
             "colorbar": {
              "outlinewidth": 0,
              "ticks": ""
             }
            },
            "type": "scatterternary"
           }
          ],
          "surface": [
           {
            "colorbar": {
             "outlinewidth": 0,
             "ticks": ""
            },
            "colorscale": [
             [
              0,
              "#0d0887"
             ],
             [
              0.1111111111111111,
              "#46039f"
             ],
             [
              0.2222222222222222,
              "#7201a8"
             ],
             [
              0.3333333333333333,
              "#9c179e"
             ],
             [
              0.4444444444444444,
              "#bd3786"
             ],
             [
              0.5555555555555556,
              "#d8576b"
             ],
             [
              0.6666666666666666,
              "#ed7953"
             ],
             [
              0.7777777777777778,
              "#fb9f3a"
             ],
             [
              0.8888888888888888,
              "#fdca26"
             ],
             [
              1,
              "#f0f921"
             ]
            ],
            "type": "surface"
           }
          ],
          "table": [
           {
            "cells": {
             "fill": {
              "color": "#EBF0F8"
             },
             "line": {
              "color": "white"
             }
            },
            "header": {
             "fill": {
              "color": "#C8D4E3"
             },
             "line": {
              "color": "white"
             }
            },
            "type": "table"
           }
          ]
         },
         "layout": {
          "annotationdefaults": {
           "arrowcolor": "#2a3f5f",
           "arrowhead": 0,
           "arrowwidth": 1
          },
          "autotypenumbers": "strict",
          "coloraxis": {
           "colorbar": {
            "outlinewidth": 0,
            "ticks": ""
           }
          },
          "colorscale": {
           "diverging": [
            [
             0,
             "#8e0152"
            ],
            [
             0.1,
             "#c51b7d"
            ],
            [
             0.2,
             "#de77ae"
            ],
            [
             0.3,
             "#f1b6da"
            ],
            [
             0.4,
             "#fde0ef"
            ],
            [
             0.5,
             "#f7f7f7"
            ],
            [
             0.6,
             "#e6f5d0"
            ],
            [
             0.7,
             "#b8e186"
            ],
            [
             0.8,
             "#7fbc41"
            ],
            [
             0.9,
             "#4d9221"
            ],
            [
             1,
             "#276419"
            ]
           ],
           "sequential": [
            [
             0,
             "#0d0887"
            ],
            [
             0.1111111111111111,
             "#46039f"
            ],
            [
             0.2222222222222222,
             "#7201a8"
            ],
            [
             0.3333333333333333,
             "#9c179e"
            ],
            [
             0.4444444444444444,
             "#bd3786"
            ],
            [
             0.5555555555555556,
             "#d8576b"
            ],
            [
             0.6666666666666666,
             "#ed7953"
            ],
            [
             0.7777777777777778,
             "#fb9f3a"
            ],
            [
             0.8888888888888888,
             "#fdca26"
            ],
            [
             1,
             "#f0f921"
            ]
           ],
           "sequentialminus": [
            [
             0,
             "#0d0887"
            ],
            [
             0.1111111111111111,
             "#46039f"
            ],
            [
             0.2222222222222222,
             "#7201a8"
            ],
            [
             0.3333333333333333,
             "#9c179e"
            ],
            [
             0.4444444444444444,
             "#bd3786"
            ],
            [
             0.5555555555555556,
             "#d8576b"
            ],
            [
             0.6666666666666666,
             "#ed7953"
            ],
            [
             0.7777777777777778,
             "#fb9f3a"
            ],
            [
             0.8888888888888888,
             "#fdca26"
            ],
            [
             1,
             "#f0f921"
            ]
           ]
          },
          "colorway": [
           "#636efa",
           "#EF553B",
           "#00cc96",
           "#ab63fa",
           "#FFA15A",
           "#19d3f3",
           "#FF6692",
           "#B6E880",
           "#FF97FF",
           "#FECB52"
          ],
          "font": {
           "color": "#2a3f5f"
          },
          "geo": {
           "bgcolor": "white",
           "lakecolor": "white",
           "landcolor": "#E5ECF6",
           "showlakes": true,
           "showland": true,
           "subunitcolor": "white"
          },
          "hoverlabel": {
           "align": "left"
          },
          "hovermode": "closest",
          "mapbox": {
           "style": "light"
          },
          "paper_bgcolor": "white",
          "plot_bgcolor": "#E5ECF6",
          "polar": {
           "angularaxis": {
            "gridcolor": "white",
            "linecolor": "white",
            "ticks": ""
           },
           "bgcolor": "#E5ECF6",
           "radialaxis": {
            "gridcolor": "white",
            "linecolor": "white",
            "ticks": ""
           }
          },
          "scene": {
           "xaxis": {
            "backgroundcolor": "#E5ECF6",
            "gridcolor": "white",
            "gridwidth": 2,
            "linecolor": "white",
            "showbackground": true,
            "ticks": "",
            "zerolinecolor": "white"
           },
           "yaxis": {
            "backgroundcolor": "#E5ECF6",
            "gridcolor": "white",
            "gridwidth": 2,
            "linecolor": "white",
            "showbackground": true,
            "ticks": "",
            "zerolinecolor": "white"
           },
           "zaxis": {
            "backgroundcolor": "#E5ECF6",
            "gridcolor": "white",
            "gridwidth": 2,
            "linecolor": "white",
            "showbackground": true,
            "ticks": "",
            "zerolinecolor": "white"
           }
          },
          "shapedefaults": {
           "line": {
            "color": "#2a3f5f"
           }
          },
          "ternary": {
           "aaxis": {
            "gridcolor": "white",
            "linecolor": "white",
            "ticks": ""
           },
           "baxis": {
            "gridcolor": "white",
            "linecolor": "white",
            "ticks": ""
           },
           "bgcolor": "#E5ECF6",
           "caxis": {
            "gridcolor": "white",
            "linecolor": "white",
            "ticks": ""
           }
          },
          "title": {
           "x": 0.05
          },
          "xaxis": {
           "automargin": true,
           "gridcolor": "white",
           "linecolor": "white",
           "ticks": "",
           "title": {
            "standoff": 15
           },
           "zerolinecolor": "white",
           "zerolinewidth": 2
          },
          "yaxis": {
           "automargin": true,
           "gridcolor": "white",
           "linecolor": "white",
           "ticks": "",
           "title": {
            "standoff": 15
           },
           "zerolinecolor": "white",
           "zerolinewidth": 2
          }
         }
        },
        "title": {
         "text": "Geotype Cost for Scenarios Bar Plot",
         "x": 0.5
        },
        "xaxis": {
         "anchor": "y",
         "domain": [
          0,
          1
         ],
         "title": {
          "text": "geotype"
         }
        },
        "yaxis": {
         "anchor": "x",
         "domain": [
          0,
          1
         ],
         "title": {
          "text": "cost"
         }
        }
       }
      },
      "text/html": [
       "<div>                            <div id=\"dd5451d9-86f7-4769-99b2-7023a822b689\" class=\"plotly-graph-div\" style=\"height:400px; width:100%;\"></div>            <script type=\"text/javascript\">                require([\"plotly\"], function(Plotly) {                    window.PLOTLYENV=window.PLOTLYENV || {};                                    if (document.getElementById(\"dd5451d9-86f7-4769-99b2-7023a822b689\")) {                    Plotly.newPlot(                        \"dd5451d9-86f7-4769-99b2-7023a822b689\",                        [{\"alignmentgroup\":\"True\",\"hovertemplate\":\"scenario=Scenario 1 (30 Mbps)<br>geotype=%{x}<br>cost=%{y}<extra></extra>\",\"legendgroup\":\"Scenario 1 (30 Mbps)\",\"marker\":{\"color\":\"#636efa\",\"pattern\":{\"shape\":\"\"}},\"name\":\"Scenario 1 (30 Mbps)\",\"offsetgroup\":\"Scenario 1 (30 Mbps)\",\"orientation\":\"v\",\"showlegend\":true,\"textposition\":\"auto\",\"type\":\"bar\",\"x\":[\"Rural 1\",\"Rural 1\",\"Rural 1\",\"Rural 2\",\"Rural 2\",\"Rural 2\",\"Rural 3\",\"Rural 3\",\"Rural 3\",\"Rural 4\",\"Rural 4\",\"Rural 4\",\"Suburban 1\",\"Suburban 1\",\"Suburban 1\",\"Suburban 2\",\"Suburban 2\",\"Suburban 2\",\"Urban\",\"Urban\",\"Urban\"],\"xaxis\":\"x\",\"y\":[217905649.2,138715564.7,79190084.44,196327435.4,146751203.8,49576231.58,336402496.3,275879229.4,60523266.94,38107810.5,0.0,38107810.5,76699191.21,30110174.74,46589016.5,108764874.3,55890493.09,52874381.27,30692232.79,9610259.198,22656593.72],\"yaxis\":\"y\"},{\"alignmentgroup\":\"True\",\"hovertemplate\":\"scenario=Scenario 2 (100 Mbps)<br>geotype=%{x}<br>cost=%{y}<extra></extra>\",\"legendgroup\":\"Scenario 2 (100 Mbps)\",\"marker\":{\"color\":\"#EF553B\",\"pattern\":{\"shape\":\"\"}},\"name\":\"Scenario 2 (100 Mbps)\",\"offsetgroup\":\"Scenario 2 (100 Mbps)\",\"orientation\":\"v\",\"showlegend\":true,\"textposition\":\"auto\",\"type\":\"bar\",\"x\":[\"Rural 1\",\"Rural 1\",\"Rural 1\",\"Rural 2\",\"Rural 2\",\"Rural 2\",\"Rural 3\",\"Rural 3\",\"Rural 3\",\"Rural 4\",\"Rural 4\",\"Rural 4\",\"Suburban 1\",\"Suburban 1\",\"Suburban 1\",\"Suburban 2\",\"Suburban 2\",\"Suburban 2\",\"Urban\",\"Urban\",\"Urban\"],\"xaxis\":\"x\",\"y\":[217905649.2,138715564.7,79190084.44,196327435.4,146751203.8,49576231.58,336402496.3,275879229.4,60523266.94,776462626.3,599629881.1,176832745.2,115686518.3,72541385.89,46589016.5,121551166.0,72406432.72,52874381.27,63851710.66,42946291.61,22656593.72],\"yaxis\":\"y\"},{\"alignmentgroup\":\"True\",\"hovertemplate\":\"scenario=Scenario 3 (300 Mbps)<br>geotype=%{x}<br>cost=%{y}<extra></extra>\",\"legendgroup\":\"Scenario 3 (300 Mbps)\",\"marker\":{\"color\":\"#00cc96\",\"pattern\":{\"shape\":\"\"}},\"name\":\"Scenario 3 (300 Mbps)\",\"offsetgroup\":\"Scenario 3 (300 Mbps)\",\"orientation\":\"v\",\"showlegend\":true,\"textposition\":\"auto\",\"type\":\"bar\",\"x\":[\"Rural 1\",\"Rural 1\",\"Rural 1\",\"Rural 2\",\"Rural 2\",\"Rural 2\",\"Rural 3\",\"Rural 3\",\"Rural 3\",\"Rural 4\",\"Rural 4\",\"Rural 4\",\"Suburban 1\",\"Suburban 1\",\"Suburban 1\",\"Suburban 2\",\"Suburban 2\",\"Suburban 2\",\"Urban\",\"Urban\",\"Urban\"],\"xaxis\":\"x\",\"y\":[315525854.3,238981845.4,79190084.44,196327435.4,146751203.8,49576231.58,336402496.3,275879229.4,60523266.94,776462626.3,599629881.1,176832745.2,279180502.7,236035370.2,46589016.5,286289941.4,237145208.1,52874381.27,159097517.6,138192098.5,22656593.72],\"yaxis\":\"y\"}],                        {\"barmode\":\"relative\",\"height\":400,\"legend\":{\"title\":{\"text\":\"scenario\"},\"tracegroupgap\":0},\"template\":{\"data\":{\"bar\":[{\"error_x\":{\"color\":\"#2a3f5f\"},\"error_y\":{\"color\":\"#2a3f5f\"},\"marker\":{\"line\":{\"color\":\"#E5ECF6\",\"width\":0.5},\"pattern\":{\"fillmode\":\"overlay\",\"size\":10,\"solidity\":0.2}},\"type\":\"bar\"}],\"barpolar\":[{\"marker\":{\"line\":{\"color\":\"#E5ECF6\",\"width\":0.5},\"pattern\":{\"fillmode\":\"overlay\",\"size\":10,\"solidity\":0.2}},\"type\":\"barpolar\"}],\"carpet\":[{\"aaxis\":{\"endlinecolor\":\"#2a3f5f\",\"gridcolor\":\"white\",\"linecolor\":\"white\",\"minorgridcolor\":\"white\",\"startlinecolor\":\"#2a3f5f\"},\"baxis\":{\"endlinecolor\":\"#2a3f5f\",\"gridcolor\":\"white\",\"linecolor\":\"white\",\"minorgridcolor\":\"white\",\"startlinecolor\":\"#2a3f5f\"},\"type\":\"carpet\"}],\"choropleth\":[{\"colorbar\":{\"outlinewidth\":0,\"ticks\":\"\"},\"type\":\"choropleth\"}],\"contour\":[{\"colorbar\":{\"outlinewidth\":0,\"ticks\":\"\"},\"colorscale\":[[0.0,\"#0d0887\"],[0.1111111111111111,\"#46039f\"],[0.2222222222222222,\"#7201a8\"],[0.3333333333333333,\"#9c179e\"],[0.4444444444444444,\"#bd3786\"],[0.5555555555555556,\"#d8576b\"],[0.6666666666666666,\"#ed7953\"],[0.7777777777777778,\"#fb9f3a\"],[0.8888888888888888,\"#fdca26\"],[1.0,\"#f0f921\"]],\"type\":\"contour\"}],\"contourcarpet\":[{\"colorbar\":{\"outlinewidth\":0,\"ticks\":\"\"},\"type\":\"contourcarpet\"}],\"heatmap\":[{\"colorbar\":{\"outlinewidth\":0,\"ticks\":\"\"},\"colorscale\":[[0.0,\"#0d0887\"],[0.1111111111111111,\"#46039f\"],[0.2222222222222222,\"#7201a8\"],[0.3333333333333333,\"#9c179e\"],[0.4444444444444444,\"#bd3786\"],[0.5555555555555556,\"#d8576b\"],[0.6666666666666666,\"#ed7953\"],[0.7777777777777778,\"#fb9f3a\"],[0.8888888888888888,\"#fdca26\"],[1.0,\"#f0f921\"]],\"type\":\"heatmap\"}],\"heatmapgl\":[{\"colorbar\":{\"outlinewidth\":0,\"ticks\":\"\"},\"colorscale\":[[0.0,\"#0d0887\"],[0.1111111111111111,\"#46039f\"],[0.2222222222222222,\"#7201a8\"],[0.3333333333333333,\"#9c179e\"],[0.4444444444444444,\"#bd3786\"],[0.5555555555555556,\"#d8576b\"],[0.6666666666666666,\"#ed7953\"],[0.7777777777777778,\"#fb9f3a\"],[0.8888888888888888,\"#fdca26\"],[1.0,\"#f0f921\"]],\"type\":\"heatmapgl\"}],\"histogram\":[{\"marker\":{\"pattern\":{\"fillmode\":\"overlay\",\"size\":10,\"solidity\":0.2}},\"type\":\"histogram\"}],\"histogram2d\":[{\"colorbar\":{\"outlinewidth\":0,\"ticks\":\"\"},\"colorscale\":[[0.0,\"#0d0887\"],[0.1111111111111111,\"#46039f\"],[0.2222222222222222,\"#7201a8\"],[0.3333333333333333,\"#9c179e\"],[0.4444444444444444,\"#bd3786\"],[0.5555555555555556,\"#d8576b\"],[0.6666666666666666,\"#ed7953\"],[0.7777777777777778,\"#fb9f3a\"],[0.8888888888888888,\"#fdca26\"],[1.0,\"#f0f921\"]],\"type\":\"histogram2d\"}],\"histogram2dcontour\":[{\"colorbar\":{\"outlinewidth\":0,\"ticks\":\"\"},\"colorscale\":[[0.0,\"#0d0887\"],[0.1111111111111111,\"#46039f\"],[0.2222222222222222,\"#7201a8\"],[0.3333333333333333,\"#9c179e\"],[0.4444444444444444,\"#bd3786\"],[0.5555555555555556,\"#d8576b\"],[0.6666666666666666,\"#ed7953\"],[0.7777777777777778,\"#fb9f3a\"],[0.8888888888888888,\"#fdca26\"],[1.0,\"#f0f921\"]],\"type\":\"histogram2dcontour\"}],\"mesh3d\":[{\"colorbar\":{\"outlinewidth\":0,\"ticks\":\"\"},\"type\":\"mesh3d\"}],\"parcoords\":[{\"line\":{\"colorbar\":{\"outlinewidth\":0,\"ticks\":\"\"}},\"type\":\"parcoords\"}],\"pie\":[{\"automargin\":true,\"type\":\"pie\"}],\"scatter\":[{\"marker\":{\"colorbar\":{\"outlinewidth\":0,\"ticks\":\"\"}},\"type\":\"scatter\"}],\"scatter3d\":[{\"line\":{\"colorbar\":{\"outlinewidth\":0,\"ticks\":\"\"}},\"marker\":{\"colorbar\":{\"outlinewidth\":0,\"ticks\":\"\"}},\"type\":\"scatter3d\"}],\"scattercarpet\":[{\"marker\":{\"colorbar\":{\"outlinewidth\":0,\"ticks\":\"\"}},\"type\":\"scattercarpet\"}],\"scattergeo\":[{\"marker\":{\"colorbar\":{\"outlinewidth\":0,\"ticks\":\"\"}},\"type\":\"scattergeo\"}],\"scattergl\":[{\"marker\":{\"colorbar\":{\"outlinewidth\":0,\"ticks\":\"\"}},\"type\":\"scattergl\"}],\"scattermapbox\":[{\"marker\":{\"colorbar\":{\"outlinewidth\":0,\"ticks\":\"\"}},\"type\":\"scattermapbox\"}],\"scatterpolar\":[{\"marker\":{\"colorbar\":{\"outlinewidth\":0,\"ticks\":\"\"}},\"type\":\"scatterpolar\"}],\"scatterpolargl\":[{\"marker\":{\"colorbar\":{\"outlinewidth\":0,\"ticks\":\"\"}},\"type\":\"scatterpolargl\"}],\"scatterternary\":[{\"marker\":{\"colorbar\":{\"outlinewidth\":0,\"ticks\":\"\"}},\"type\":\"scatterternary\"}],\"surface\":[{\"colorbar\":{\"outlinewidth\":0,\"ticks\":\"\"},\"colorscale\":[[0.0,\"#0d0887\"],[0.1111111111111111,\"#46039f\"],[0.2222222222222222,\"#7201a8\"],[0.3333333333333333,\"#9c179e\"],[0.4444444444444444,\"#bd3786\"],[0.5555555555555556,\"#d8576b\"],[0.6666666666666666,\"#ed7953\"],[0.7777777777777778,\"#fb9f3a\"],[0.8888888888888888,\"#fdca26\"],[1.0,\"#f0f921\"]],\"type\":\"surface\"}],\"table\":[{\"cells\":{\"fill\":{\"color\":\"#EBF0F8\"},\"line\":{\"color\":\"white\"}},\"header\":{\"fill\":{\"color\":\"#C8D4E3\"},\"line\":{\"color\":\"white\"}},\"type\":\"table\"}]},\"layout\":{\"annotationdefaults\":{\"arrowcolor\":\"#2a3f5f\",\"arrowhead\":0,\"arrowwidth\":1},\"autotypenumbers\":\"strict\",\"coloraxis\":{\"colorbar\":{\"outlinewidth\":0,\"ticks\":\"\"}},\"colorscale\":{\"diverging\":[[0,\"#8e0152\"],[0.1,\"#c51b7d\"],[0.2,\"#de77ae\"],[0.3,\"#f1b6da\"],[0.4,\"#fde0ef\"],[0.5,\"#f7f7f7\"],[0.6,\"#e6f5d0\"],[0.7,\"#b8e186\"],[0.8,\"#7fbc41\"],[0.9,\"#4d9221\"],[1,\"#276419\"]],\"sequential\":[[0.0,\"#0d0887\"],[0.1111111111111111,\"#46039f\"],[0.2222222222222222,\"#7201a8\"],[0.3333333333333333,\"#9c179e\"],[0.4444444444444444,\"#bd3786\"],[0.5555555555555556,\"#d8576b\"],[0.6666666666666666,\"#ed7953\"],[0.7777777777777778,\"#fb9f3a\"],[0.8888888888888888,\"#fdca26\"],[1.0,\"#f0f921\"]],\"sequentialminus\":[[0.0,\"#0d0887\"],[0.1111111111111111,\"#46039f\"],[0.2222222222222222,\"#7201a8\"],[0.3333333333333333,\"#9c179e\"],[0.4444444444444444,\"#bd3786\"],[0.5555555555555556,\"#d8576b\"],[0.6666666666666666,\"#ed7953\"],[0.7777777777777778,\"#fb9f3a\"],[0.8888888888888888,\"#fdca26\"],[1.0,\"#f0f921\"]]},\"colorway\":[\"#636efa\",\"#EF553B\",\"#00cc96\",\"#ab63fa\",\"#FFA15A\",\"#19d3f3\",\"#FF6692\",\"#B6E880\",\"#FF97FF\",\"#FECB52\"],\"font\":{\"color\":\"#2a3f5f\"},\"geo\":{\"bgcolor\":\"white\",\"lakecolor\":\"white\",\"landcolor\":\"#E5ECF6\",\"showlakes\":true,\"showland\":true,\"subunitcolor\":\"white\"},\"hoverlabel\":{\"align\":\"left\"},\"hovermode\":\"closest\",\"mapbox\":{\"style\":\"light\"},\"paper_bgcolor\":\"white\",\"plot_bgcolor\":\"#E5ECF6\",\"polar\":{\"angularaxis\":{\"gridcolor\":\"white\",\"linecolor\":\"white\",\"ticks\":\"\"},\"bgcolor\":\"#E5ECF6\",\"radialaxis\":{\"gridcolor\":\"white\",\"linecolor\":\"white\",\"ticks\":\"\"}},\"scene\":{\"xaxis\":{\"backgroundcolor\":\"#E5ECF6\",\"gridcolor\":\"white\",\"gridwidth\":2,\"linecolor\":\"white\",\"showbackground\":true,\"ticks\":\"\",\"zerolinecolor\":\"white\"},\"yaxis\":{\"backgroundcolor\":\"#E5ECF6\",\"gridcolor\":\"white\",\"gridwidth\":2,\"linecolor\":\"white\",\"showbackground\":true,\"ticks\":\"\",\"zerolinecolor\":\"white\"},\"zaxis\":{\"backgroundcolor\":\"#E5ECF6\",\"gridcolor\":\"white\",\"gridwidth\":2,\"linecolor\":\"white\",\"showbackground\":true,\"ticks\":\"\",\"zerolinecolor\":\"white\"}},\"shapedefaults\":{\"line\":{\"color\":\"#2a3f5f\"}},\"ternary\":{\"aaxis\":{\"gridcolor\":\"white\",\"linecolor\":\"white\",\"ticks\":\"\"},\"baxis\":{\"gridcolor\":\"white\",\"linecolor\":\"white\",\"ticks\":\"\"},\"bgcolor\":\"#E5ECF6\",\"caxis\":{\"gridcolor\":\"white\",\"linecolor\":\"white\",\"ticks\":\"\"}},\"title\":{\"x\":0.05},\"xaxis\":{\"automargin\":true,\"gridcolor\":\"white\",\"linecolor\":\"white\",\"ticks\":\"\",\"title\":{\"standoff\":15},\"zerolinecolor\":\"white\",\"zerolinewidth\":2},\"yaxis\":{\"automargin\":true,\"gridcolor\":\"white\",\"linecolor\":\"white\",\"ticks\":\"\",\"title\":{\"standoff\":15},\"zerolinecolor\":\"white\",\"zerolinewidth\":2}}},\"title\":{\"text\":\"Geotype Cost for Scenarios Bar Plot\",\"x\":0.5},\"xaxis\":{\"anchor\":\"y\",\"domain\":[0.0,1.0],\"title\":{\"text\":\"geotype\"}},\"yaxis\":{\"anchor\":\"x\",\"domain\":[0.0,1.0],\"title\":{\"text\":\"cost\"}}},                        {\"responsive\": true}                    ).then(function(){\n",
       "                            \n",
       "var gd = document.getElementById('dd5451d9-86f7-4769-99b2-7023a822b689');\n",
       "var x = new MutationObserver(function (mutations, observer) {{\n",
       "        var display = window.getComputedStyle(gd).display;\n",
       "        if (!display || display === 'none') {{\n",
       "            console.log([gd, 'removed!']);\n",
       "            Plotly.purge(gd);\n",
       "            observer.disconnect();\n",
       "        }}\n",
       "}});\n",
       "\n",
       "// Listen for the removal of the full notebook cells\n",
       "var notebookContainer = gd.closest('#notebook-container');\n",
       "if (notebookContainer) {{\n",
       "    x.observe(notebookContainer, {childList: true});\n",
       "}}\n",
       "\n",
       "// Listen for the clearing of the current output cell\n",
       "var outputEl = gd.closest('.output');\n",
       "if (outputEl) {{\n",
       "    x.observe(outputEl, {childList: true});\n",
       "}}\n",
       "\n",
       "                        })                };                });            </script>        </div>"
      ]
     },
     "metadata": {},
     "output_type": "display_data"
    }
   ],
   "source": [
    "geo_cost_bar = px.bar(df, x=\"geotype\", y=\"cost\", color='scenario', title=\"Geotype Cost for Scenarios Bar Plot\",\n",
    "labels={'pop':'strategy'}, height=400)\n",
    "geo_cost_bar.update_layout(title_x=0.5)\n",
    "\n",
    "geo_cost_bar.show()"
   ]
  },
  {
   "cell_type": "code",
   "execution_count": null,
   "id": "e05a0cd7",
   "metadata": {},
   "outputs": [],
   "source": []
  }
 ],
 "metadata": {
  "kernelspec": {
   "display_name": "5G",
   "language": "python",
   "name": "5g"
  },
  "language_info": {
   "codemirror_mode": {
    "name": "ipython",
    "version": 3
   },
   "file_extension": ".py",
   "mimetype": "text/x-python",
   "name": "python",
   "nbconvert_exporter": "python",
   "pygments_lexer": "ipython3",
   "version": "3.8.8"
  }
 },
 "nbformat": 4,
 "nbformat_minor": 5
}
